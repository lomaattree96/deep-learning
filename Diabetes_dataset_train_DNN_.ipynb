{
  "nbformat": 4,
  "nbformat_minor": 0,
  "metadata": {
    "kernelspec": {
      "display_name": "Python 3",
      "language": "python",
      "name": "python3"
    },
    "colab": {
      "name": " 20MAI1013-DL_lab2_Diabetes_dataset-train_DNN .ipynb",
      "provenance": [],
      "collapsed_sections": []
    },
    "accelerator": "GPU"
  },
  "cells": [
    {
      "cell_type": "markdown",
      "metadata": {
        "id": "BZy3yitayXo9"
      },
      "source": [
        "# DL Lab2 - Design and train a simple neural network - DIABETES DATASET    WITH TENSORFLOW PLAYGROUND OBSERVATIONS:"
      ]
    },
    {
      "cell_type": "code",
      "metadata": {
        "collapsed": true,
        "id": "84CDAhg7yXpC"
      },
      "source": [
        "#imports\n",
        "import tensorflow as tf\n",
        "import matplotlib.pyplot as plt\n",
        "from tensorflow.keras import Sequential\n",
        "from tensorflow.keras.layers import Dense\n",
        "from keras.callbacks import History\n",
        "history = History()"
      ],
      "execution_count": 82,
      "outputs": []
    },
    {
      "cell_type": "code",
      "metadata": {
        "colab": {
          "base_uri": "https://localhost:8080/",
          "height": 0
        },
        "id": "68SrYA1KaVWD",
        "outputId": "63dcb1bc-2c4d-4ff2-f063-a8e448334ef6"
      },
      "source": [
        "!pwd"
      ],
      "execution_count": 6,
      "outputs": [
        {
          "output_type": "stream",
          "text": [
            "/content\n"
          ],
          "name": "stdout"
        }
      ]
    },
    {
      "cell_type": "code",
      "metadata": {
        "colab": {
          "base_uri": "https://localhost:8080/",
          "height": 0
        },
        "id": "U8o72fi0aWyE",
        "outputId": "4d8735b9-6c82-4e2d-92d8-65a5753a7360"
      },
      "source": [
        "from google.colab import drive\r\n",
        "drive.mount('/content/drive')"
      ],
      "execution_count": 7,
      "outputs": [
        {
          "output_type": "stream",
          "text": [
            "Mounted at /content/drive\n"
          ],
          "name": "stdout"
        }
      ]
    },
    {
      "cell_type": "code",
      "metadata": {
        "colab": {
          "base_uri": "https://localhost:8080/",
          "height": 0
        },
        "id": "m45C4JTparaT",
        "outputId": "13cf3df5-a7b2-4dee-c6c5-758677f0f208"
      },
      "source": [
        "!ls"
      ],
      "execution_count": 8,
      "outputs": [
        {
          "output_type": "stream",
          "text": [
            "drive  sample_data\n"
          ],
          "name": "stdout"
        }
      ]
    },
    {
      "cell_type": "markdown",
      "metadata": {
        "id": "k3IOrkC0yXpE"
      },
      "source": [
        "### To do \n",
        "- Data preparation\n",
        "- Model Definition\n",
        "- loss and optimiser definition\n",
        "- train or fit and evaluate"
      ]
    },
    {
      "cell_type": "code",
      "metadata": {
        "id": "dsc5XHWNyXpF",
        "colab": {
          "base_uri": "https://localhost:8080/",
          "height": 204
        },
        "outputId": "07aeaf1f-6b44-42c6-934d-48d98d3cfe37"
      },
      "source": [
        "import pandas as pd \r\n",
        "diabetes_df = pd.read_csv('/content/drive/MyDrive/Colab Notebooks/diabetes.csv') \r\n",
        "diabetes_df.head()\r\n"
      ],
      "execution_count": 9,
      "outputs": [
        {
          "output_type": "execute_result",
          "data": {
            "text/html": [
              "<div>\n",
              "<style scoped>\n",
              "    .dataframe tbody tr th:only-of-type {\n",
              "        vertical-align: middle;\n",
              "    }\n",
              "\n",
              "    .dataframe tbody tr th {\n",
              "        vertical-align: top;\n",
              "    }\n",
              "\n",
              "    .dataframe thead th {\n",
              "        text-align: right;\n",
              "    }\n",
              "</style>\n",
              "<table border=\"1\" class=\"dataframe\">\n",
              "  <thead>\n",
              "    <tr style=\"text-align: right;\">\n",
              "      <th></th>\n",
              "      <th>Pregnancies</th>\n",
              "      <th>Glucose</th>\n",
              "      <th>BloodPressure</th>\n",
              "      <th>SkinThickness</th>\n",
              "      <th>Insulin</th>\n",
              "      <th>BMI</th>\n",
              "      <th>DiabetesPedigreeFunction</th>\n",
              "      <th>Age</th>\n",
              "      <th>Outcome</th>\n",
              "    </tr>\n",
              "  </thead>\n",
              "  <tbody>\n",
              "    <tr>\n",
              "      <th>0</th>\n",
              "      <td>6</td>\n",
              "      <td>148</td>\n",
              "      <td>72</td>\n",
              "      <td>35</td>\n",
              "      <td>0</td>\n",
              "      <td>33.6</td>\n",
              "      <td>0.627</td>\n",
              "      <td>50</td>\n",
              "      <td>1</td>\n",
              "    </tr>\n",
              "    <tr>\n",
              "      <th>1</th>\n",
              "      <td>1</td>\n",
              "      <td>85</td>\n",
              "      <td>66</td>\n",
              "      <td>29</td>\n",
              "      <td>0</td>\n",
              "      <td>26.6</td>\n",
              "      <td>0.351</td>\n",
              "      <td>31</td>\n",
              "      <td>0</td>\n",
              "    </tr>\n",
              "    <tr>\n",
              "      <th>2</th>\n",
              "      <td>8</td>\n",
              "      <td>183</td>\n",
              "      <td>64</td>\n",
              "      <td>0</td>\n",
              "      <td>0</td>\n",
              "      <td>23.3</td>\n",
              "      <td>0.672</td>\n",
              "      <td>32</td>\n",
              "      <td>1</td>\n",
              "    </tr>\n",
              "    <tr>\n",
              "      <th>3</th>\n",
              "      <td>1</td>\n",
              "      <td>89</td>\n",
              "      <td>66</td>\n",
              "      <td>23</td>\n",
              "      <td>94</td>\n",
              "      <td>28.1</td>\n",
              "      <td>0.167</td>\n",
              "      <td>21</td>\n",
              "      <td>0</td>\n",
              "    </tr>\n",
              "    <tr>\n",
              "      <th>4</th>\n",
              "      <td>0</td>\n",
              "      <td>137</td>\n",
              "      <td>40</td>\n",
              "      <td>35</td>\n",
              "      <td>168</td>\n",
              "      <td>43.1</td>\n",
              "      <td>2.288</td>\n",
              "      <td>33</td>\n",
              "      <td>1</td>\n",
              "    </tr>\n",
              "  </tbody>\n",
              "</table>\n",
              "</div>"
            ],
            "text/plain": [
              "   Pregnancies  Glucose  BloodPressure  ...  DiabetesPedigreeFunction  Age  Outcome\n",
              "0            6      148             72  ...                     0.627   50        1\n",
              "1            1       85             66  ...                     0.351   31        0\n",
              "2            8      183             64  ...                     0.672   32        1\n",
              "3            1       89             66  ...                     0.167   21        0\n",
              "4            0      137             40  ...                     2.288   33        1\n",
              "\n",
              "[5 rows x 9 columns]"
            ]
          },
          "metadata": {
            "tags": []
          },
          "execution_count": 9
        }
      ]
    },
    {
      "cell_type": "code",
      "metadata": {
        "colab": {
          "base_uri": "https://localhost:8080/",
          "height": 0
        },
        "id": "gDng8UE0yXpI",
        "outputId": "e848b5d5-de86-4451-ddb5-ae6449007e73"
      },
      "source": [
        "diabetes_df.shape\r\n"
      ],
      "execution_count": 10,
      "outputs": [
        {
          "output_type": "execute_result",
          "data": {
            "text/plain": [
              "(768, 9)"
            ]
          },
          "metadata": {
            "tags": []
          },
          "execution_count": 10
        }
      ]
    },
    {
      "cell_type": "code",
      "metadata": {
        "colab": {
          "base_uri": "https://localhost:8080/",
          "height": 0
        },
        "id": "DpqYMwko7fl3",
        "outputId": "e4fd0afc-77db-4f72-c7e4-9d75a6f967fd"
      },
      "source": [
        "print(tf.__version__)"
      ],
      "execution_count": 11,
      "outputs": [
        {
          "output_type": "stream",
          "text": [
            "2.4.1\n"
          ],
          "name": "stdout"
        }
      ]
    },
    {
      "cell_type": "code",
      "metadata": {
        "colab": {
          "base_uri": "https://localhost:8080/",
          "height": 0
        },
        "id": "bRsVGnu4xjGN",
        "outputId": "6caac983-69e8-48c4-fb10-1ce5a5c53442"
      },
      "source": [
        "diabetes_df.info()\r\n"
      ],
      "execution_count": 12,
      "outputs": [
        {
          "output_type": "stream",
          "text": [
            "<class 'pandas.core.frame.DataFrame'>\n",
            "RangeIndex: 768 entries, 0 to 767\n",
            "Data columns (total 9 columns):\n",
            " #   Column                    Non-Null Count  Dtype  \n",
            "---  ------                    --------------  -----  \n",
            " 0   Pregnancies               768 non-null    int64  \n",
            " 1   Glucose                   768 non-null    int64  \n",
            " 2   BloodPressure             768 non-null    int64  \n",
            " 3   SkinThickness             768 non-null    int64  \n",
            " 4   Insulin                   768 non-null    int64  \n",
            " 5   BMI                       768 non-null    float64\n",
            " 6   DiabetesPedigreeFunction  768 non-null    float64\n",
            " 7   Age                       768 non-null    int64  \n",
            " 8   Outcome                   768 non-null    int64  \n",
            "dtypes: float64(2), int64(7)\n",
            "memory usage: 54.1 KB\n"
          ],
          "name": "stdout"
        }
      ]
    },
    {
      "cell_type": "code",
      "metadata": {
        "colab": {
          "base_uri": "https://localhost:8080/",
          "height": 297
        },
        "id": "I0OX0ISQyO9S",
        "outputId": "70d4533d-e8d8-4cba-bb8f-00de749085eb"
      },
      "source": [
        "#The dataset does not have any missing data.\r\n",
        "diabetes_df.describe()"
      ],
      "execution_count": 13,
      "outputs": [
        {
          "output_type": "execute_result",
          "data": {
            "text/html": [
              "<div>\n",
              "<style scoped>\n",
              "    .dataframe tbody tr th:only-of-type {\n",
              "        vertical-align: middle;\n",
              "    }\n",
              "\n",
              "    .dataframe tbody tr th {\n",
              "        vertical-align: top;\n",
              "    }\n",
              "\n",
              "    .dataframe thead th {\n",
              "        text-align: right;\n",
              "    }\n",
              "</style>\n",
              "<table border=\"1\" class=\"dataframe\">\n",
              "  <thead>\n",
              "    <tr style=\"text-align: right;\">\n",
              "      <th></th>\n",
              "      <th>Pregnancies</th>\n",
              "      <th>Glucose</th>\n",
              "      <th>BloodPressure</th>\n",
              "      <th>SkinThickness</th>\n",
              "      <th>Insulin</th>\n",
              "      <th>BMI</th>\n",
              "      <th>DiabetesPedigreeFunction</th>\n",
              "      <th>Age</th>\n",
              "      <th>Outcome</th>\n",
              "    </tr>\n",
              "  </thead>\n",
              "  <tbody>\n",
              "    <tr>\n",
              "      <th>count</th>\n",
              "      <td>768.000000</td>\n",
              "      <td>768.000000</td>\n",
              "      <td>768.000000</td>\n",
              "      <td>768.000000</td>\n",
              "      <td>768.000000</td>\n",
              "      <td>768.000000</td>\n",
              "      <td>768.000000</td>\n",
              "      <td>768.000000</td>\n",
              "      <td>768.000000</td>\n",
              "    </tr>\n",
              "    <tr>\n",
              "      <th>mean</th>\n",
              "      <td>3.845052</td>\n",
              "      <td>120.894531</td>\n",
              "      <td>69.105469</td>\n",
              "      <td>20.536458</td>\n",
              "      <td>79.799479</td>\n",
              "      <td>31.992578</td>\n",
              "      <td>0.471876</td>\n",
              "      <td>33.240885</td>\n",
              "      <td>0.348958</td>\n",
              "    </tr>\n",
              "    <tr>\n",
              "      <th>std</th>\n",
              "      <td>3.369578</td>\n",
              "      <td>31.972618</td>\n",
              "      <td>19.355807</td>\n",
              "      <td>15.952218</td>\n",
              "      <td>115.244002</td>\n",
              "      <td>7.884160</td>\n",
              "      <td>0.331329</td>\n",
              "      <td>11.760232</td>\n",
              "      <td>0.476951</td>\n",
              "    </tr>\n",
              "    <tr>\n",
              "      <th>min</th>\n",
              "      <td>0.000000</td>\n",
              "      <td>0.000000</td>\n",
              "      <td>0.000000</td>\n",
              "      <td>0.000000</td>\n",
              "      <td>0.000000</td>\n",
              "      <td>0.000000</td>\n",
              "      <td>0.078000</td>\n",
              "      <td>21.000000</td>\n",
              "      <td>0.000000</td>\n",
              "    </tr>\n",
              "    <tr>\n",
              "      <th>25%</th>\n",
              "      <td>1.000000</td>\n",
              "      <td>99.000000</td>\n",
              "      <td>62.000000</td>\n",
              "      <td>0.000000</td>\n",
              "      <td>0.000000</td>\n",
              "      <td>27.300000</td>\n",
              "      <td>0.243750</td>\n",
              "      <td>24.000000</td>\n",
              "      <td>0.000000</td>\n",
              "    </tr>\n",
              "    <tr>\n",
              "      <th>50%</th>\n",
              "      <td>3.000000</td>\n",
              "      <td>117.000000</td>\n",
              "      <td>72.000000</td>\n",
              "      <td>23.000000</td>\n",
              "      <td>30.500000</td>\n",
              "      <td>32.000000</td>\n",
              "      <td>0.372500</td>\n",
              "      <td>29.000000</td>\n",
              "      <td>0.000000</td>\n",
              "    </tr>\n",
              "    <tr>\n",
              "      <th>75%</th>\n",
              "      <td>6.000000</td>\n",
              "      <td>140.250000</td>\n",
              "      <td>80.000000</td>\n",
              "      <td>32.000000</td>\n",
              "      <td>127.250000</td>\n",
              "      <td>36.600000</td>\n",
              "      <td>0.626250</td>\n",
              "      <td>41.000000</td>\n",
              "      <td>1.000000</td>\n",
              "    </tr>\n",
              "    <tr>\n",
              "      <th>max</th>\n",
              "      <td>17.000000</td>\n",
              "      <td>199.000000</td>\n",
              "      <td>122.000000</td>\n",
              "      <td>99.000000</td>\n",
              "      <td>846.000000</td>\n",
              "      <td>67.100000</td>\n",
              "      <td>2.420000</td>\n",
              "      <td>81.000000</td>\n",
              "      <td>1.000000</td>\n",
              "    </tr>\n",
              "  </tbody>\n",
              "</table>\n",
              "</div>"
            ],
            "text/plain": [
              "       Pregnancies     Glucose  ...         Age     Outcome\n",
              "count   768.000000  768.000000  ...  768.000000  768.000000\n",
              "mean      3.845052  120.894531  ...   33.240885    0.348958\n",
              "std       3.369578   31.972618  ...   11.760232    0.476951\n",
              "min       0.000000    0.000000  ...   21.000000    0.000000\n",
              "25%       1.000000   99.000000  ...   24.000000    0.000000\n",
              "50%       3.000000  117.000000  ...   29.000000    0.000000\n",
              "75%       6.000000  140.250000  ...   41.000000    1.000000\n",
              "max      17.000000  199.000000  ...   81.000000    1.000000\n",
              "\n",
              "[8 rows x 9 columns]"
            ]
          },
          "metadata": {
            "tags": []
          },
          "execution_count": 13
        }
      ]
    },
    {
      "cell_type": "code",
      "metadata": {
        "colab": {
          "base_uri": "https://localhost:8080/",
          "height": 328
        },
        "id": "5ljOcbbkyXun",
        "outputId": "3003033e-b222-4803-b5a0-ccc9f9352c0e"
      },
      "source": [
        "diabetes_df.corr()"
      ],
      "execution_count": 14,
      "outputs": [
        {
          "output_type": "execute_result",
          "data": {
            "text/html": [
              "<div>\n",
              "<style scoped>\n",
              "    .dataframe tbody tr th:only-of-type {\n",
              "        vertical-align: middle;\n",
              "    }\n",
              "\n",
              "    .dataframe tbody tr th {\n",
              "        vertical-align: top;\n",
              "    }\n",
              "\n",
              "    .dataframe thead th {\n",
              "        text-align: right;\n",
              "    }\n",
              "</style>\n",
              "<table border=\"1\" class=\"dataframe\">\n",
              "  <thead>\n",
              "    <tr style=\"text-align: right;\">\n",
              "      <th></th>\n",
              "      <th>Pregnancies</th>\n",
              "      <th>Glucose</th>\n",
              "      <th>BloodPressure</th>\n",
              "      <th>SkinThickness</th>\n",
              "      <th>Insulin</th>\n",
              "      <th>BMI</th>\n",
              "      <th>DiabetesPedigreeFunction</th>\n",
              "      <th>Age</th>\n",
              "      <th>Outcome</th>\n",
              "    </tr>\n",
              "  </thead>\n",
              "  <tbody>\n",
              "    <tr>\n",
              "      <th>Pregnancies</th>\n",
              "      <td>1.000000</td>\n",
              "      <td>0.129459</td>\n",
              "      <td>0.141282</td>\n",
              "      <td>-0.081672</td>\n",
              "      <td>-0.073535</td>\n",
              "      <td>0.017683</td>\n",
              "      <td>-0.033523</td>\n",
              "      <td>0.544341</td>\n",
              "      <td>0.221898</td>\n",
              "    </tr>\n",
              "    <tr>\n",
              "      <th>Glucose</th>\n",
              "      <td>0.129459</td>\n",
              "      <td>1.000000</td>\n",
              "      <td>0.152590</td>\n",
              "      <td>0.057328</td>\n",
              "      <td>0.331357</td>\n",
              "      <td>0.221071</td>\n",
              "      <td>0.137337</td>\n",
              "      <td>0.263514</td>\n",
              "      <td>0.466581</td>\n",
              "    </tr>\n",
              "    <tr>\n",
              "      <th>BloodPressure</th>\n",
              "      <td>0.141282</td>\n",
              "      <td>0.152590</td>\n",
              "      <td>1.000000</td>\n",
              "      <td>0.207371</td>\n",
              "      <td>0.088933</td>\n",
              "      <td>0.281805</td>\n",
              "      <td>0.041265</td>\n",
              "      <td>0.239528</td>\n",
              "      <td>0.065068</td>\n",
              "    </tr>\n",
              "    <tr>\n",
              "      <th>SkinThickness</th>\n",
              "      <td>-0.081672</td>\n",
              "      <td>0.057328</td>\n",
              "      <td>0.207371</td>\n",
              "      <td>1.000000</td>\n",
              "      <td>0.436783</td>\n",
              "      <td>0.392573</td>\n",
              "      <td>0.183928</td>\n",
              "      <td>-0.113970</td>\n",
              "      <td>0.074752</td>\n",
              "    </tr>\n",
              "    <tr>\n",
              "      <th>Insulin</th>\n",
              "      <td>-0.073535</td>\n",
              "      <td>0.331357</td>\n",
              "      <td>0.088933</td>\n",
              "      <td>0.436783</td>\n",
              "      <td>1.000000</td>\n",
              "      <td>0.197859</td>\n",
              "      <td>0.185071</td>\n",
              "      <td>-0.042163</td>\n",
              "      <td>0.130548</td>\n",
              "    </tr>\n",
              "    <tr>\n",
              "      <th>BMI</th>\n",
              "      <td>0.017683</td>\n",
              "      <td>0.221071</td>\n",
              "      <td>0.281805</td>\n",
              "      <td>0.392573</td>\n",
              "      <td>0.197859</td>\n",
              "      <td>1.000000</td>\n",
              "      <td>0.140647</td>\n",
              "      <td>0.036242</td>\n",
              "      <td>0.292695</td>\n",
              "    </tr>\n",
              "    <tr>\n",
              "      <th>DiabetesPedigreeFunction</th>\n",
              "      <td>-0.033523</td>\n",
              "      <td>0.137337</td>\n",
              "      <td>0.041265</td>\n",
              "      <td>0.183928</td>\n",
              "      <td>0.185071</td>\n",
              "      <td>0.140647</td>\n",
              "      <td>1.000000</td>\n",
              "      <td>0.033561</td>\n",
              "      <td>0.173844</td>\n",
              "    </tr>\n",
              "    <tr>\n",
              "      <th>Age</th>\n",
              "      <td>0.544341</td>\n",
              "      <td>0.263514</td>\n",
              "      <td>0.239528</td>\n",
              "      <td>-0.113970</td>\n",
              "      <td>-0.042163</td>\n",
              "      <td>0.036242</td>\n",
              "      <td>0.033561</td>\n",
              "      <td>1.000000</td>\n",
              "      <td>0.238356</td>\n",
              "    </tr>\n",
              "    <tr>\n",
              "      <th>Outcome</th>\n",
              "      <td>0.221898</td>\n",
              "      <td>0.466581</td>\n",
              "      <td>0.065068</td>\n",
              "      <td>0.074752</td>\n",
              "      <td>0.130548</td>\n",
              "      <td>0.292695</td>\n",
              "      <td>0.173844</td>\n",
              "      <td>0.238356</td>\n",
              "      <td>1.000000</td>\n",
              "    </tr>\n",
              "  </tbody>\n",
              "</table>\n",
              "</div>"
            ],
            "text/plain": [
              "                          Pregnancies   Glucose  ...       Age   Outcome\n",
              "Pregnancies                  1.000000  0.129459  ...  0.544341  0.221898\n",
              "Glucose                      0.129459  1.000000  ...  0.263514  0.466581\n",
              "BloodPressure                0.141282  0.152590  ...  0.239528  0.065068\n",
              "SkinThickness               -0.081672  0.057328  ... -0.113970  0.074752\n",
              "Insulin                     -0.073535  0.331357  ... -0.042163  0.130548\n",
              "BMI                          0.017683  0.221071  ...  0.036242  0.292695\n",
              "DiabetesPedigreeFunction    -0.033523  0.137337  ...  0.033561  0.173844\n",
              "Age                          0.544341  0.263514  ...  1.000000  0.238356\n",
              "Outcome                      0.221898  0.466581  ...  0.238356  1.000000\n",
              "\n",
              "[9 rows x 9 columns]"
            ]
          },
          "metadata": {
            "tags": []
          },
          "execution_count": 14
        }
      ]
    },
    {
      "cell_type": "code",
      "metadata": {
        "colab": {
          "base_uri": "https://localhost:8080/",
          "height": 624
        },
        "id": "B57-jplByak1",
        "outputId": "fa2999ae-0f65-4235-bbd9-101be7e85aea"
      },
      "source": [
        "#Basic Visualization\r\n",
        "import seaborn as sns\r\n",
        "from sklearn.model_selection import train_test_split\r\n",
        "from sklearn.metrics import classification_report, accuracy_score\r\n",
        "from sklearn.preprocessing import Normalizer\r\n",
        "from keras.layers import Activation, Dense, Dropout, BatchNormalization, Input\r\n",
        "from keras.models import Model\r\n",
        "from keras.optimizers import Adam\r\n",
        "f, ax = plt.subplots(1, figsize=(10,8))\r\n",
        "sns.heatmap(diabetes_df.corr(), annot=True, ax=ax)"
      ],
      "execution_count": 17,
      "outputs": [
        {
          "output_type": "execute_result",
          "data": {
            "text/plain": [
              "<matplotlib.axes._subplots.AxesSubplot at 0x7f656c4bdd90>"
            ]
          },
          "metadata": {
            "tags": []
          },
          "execution_count": 17
        },
        {
          "output_type": "display_data",
          "data": {
            "image/png": "[encoded data removed]",
            "text/plain": [
              "<Figure size 720x576 with 2 Axes>"
            ]
          },
          "metadata": {
            "tags": [],
            "needs_background": "light"
          }
        }
      ]
    },
    {
      "cell_type": "code",
      "metadata": {
        "colab": {
          "base_uri": "https://localhost:8080/",
          "height": 0
        },
        "id": "1waoZSH81xXr",
        "outputId": "daef065e-5d13-4aa7-a634-85a40d5abc44"
      },
      "source": [
        "#In the dataset, people diagnosed with diabetes had higher values for every attribute (mean value)\r\n",
        "#defining all the columns showing which patient is diabetic or not\r\n",
        "column_names = diabetes_df.columns\r\n",
        "column_names = column_names.drop('Outcome')\r\n",
        "for name in column_names:\r\n",
        "    print('{}\\n'.format(name))\r\n",
        "    print(diabetes_df.groupby(['Outcome'])[name].mean())\r\n",
        "    print('*'*50)\r\n",
        "    print()"
      ],
      "execution_count": 18,
      "outputs": [
        {
          "output_type": "stream",
          "text": [
            "Pregnancies\n",
            "\n",
            "Outcome\n",
            "0    3.298000\n",
            "1    4.865672\n",
            "Name: Pregnancies, dtype: float64\n",
            "**************************************************\n",
            "\n",
            "Glucose\n",
            "\n",
            "Outcome\n",
            "0    109.980000\n",
            "1    141.257463\n",
            "Name: Glucose, dtype: float64\n",
            "**************************************************\n",
            "\n",
            "BloodPressure\n",
            "\n",
            "Outcome\n",
            "0    68.184000\n",
            "1    70.824627\n",
            "Name: BloodPressure, dtype: float64\n",
            "**************************************************\n",
            "\n",
            "SkinThickness\n",
            "\n",
            "Outcome\n",
            "0    19.664000\n",
            "1    22.164179\n",
            "Name: SkinThickness, dtype: float64\n",
            "**************************************************\n",
            "\n",
            "Insulin\n",
            "\n",
            "Outcome\n",
            "0     68.792000\n",
            "1    100.335821\n",
            "Name: Insulin, dtype: float64\n",
            "**************************************************\n",
            "\n",
            "BMI\n",
            "\n",
            "Outcome\n",
            "0    30.304200\n",
            "1    35.142537\n",
            "Name: BMI, dtype: float64\n",
            "**************************************************\n",
            "\n",
            "DiabetesPedigreeFunction\n",
            "\n",
            "Outcome\n",
            "0    0.429734\n",
            "1    0.550500\n",
            "Name: DiabetesPedigreeFunction, dtype: float64\n",
            "**************************************************\n",
            "\n",
            "Age\n",
            "\n",
            "Outcome\n",
            "0    31.190000\n",
            "1    37.067164\n",
            "Name: Age, dtype: float64\n",
            "**************************************************\n",
            "\n"
          ],
          "name": "stdout"
        }
      ]
    },
    {
      "cell_type": "code",
      "metadata": {
        "id": "sWMsIN3O5k25"
      },
      "source": [
        "#Preparation of the data\r\n",
        "#Split the data into a training set, dev set and test set.\r\n",
        "#Normalize the data.\r\n",
        "X = diabetes_df.drop('Outcome', axis =1).values\r\n",
        "y = diabetes_df.Outcome.values\r\n",
        "X_train, X_test, y_train, y_test = train_test_split(X, y, test_size=0.3, random_state=2)\r\n",
        "nl = Normalizer()\r\n",
        "nl.fit(X_train)\r\n",
        "X_train = nl.transform(X_train)\r\n",
        "X_dev, X_test, y_dev, y_test = train_test_split(X_test, y_test, test_size=0.5, random_state=2)\r\n",
        "X_dev = nl.transform(X_dev)\r\n",
        "X_test = nl.transform(X_test)"
      ],
      "execution_count": 19,
      "outputs": []
    },
    {
      "cell_type": "code",
      "metadata": {
        "colab": {
          "base_uri": "https://localhost:8080/",
          "height": 0
        },
        "id": "xx49GAwd7nQI",
        "outputId": "58cb3b71-ba4a-4804-ca10-19a244fd12f4"
      },
      "source": [
        "X_test.shape"
      ],
      "execution_count": 21,
      "outputs": [
        {
          "output_type": "execute_result",
          "data": {
            "text/plain": [
              "(116, 8)"
            ]
          },
          "metadata": {
            "tags": []
          },
          "execution_count": 21
        }
      ]
    },
    {
      "cell_type": "markdown",
      "metadata": {
        "id": "cNAWYUhByXpK"
      },
      "source": [
        "> -------"
      ]
    },
    {
      "cell_type": "code",
      "metadata": {
        "colab": {
          "base_uri": "https://localhost:8080/",
          "height": 0
        },
        "id": "uG46E12g8ggy",
        "outputId": "c646f0c8-7a45-4a85-e3e6-522edde3b345"
      },
      "source": [
        "import numpy as np\r\n",
        "import pandas as pd\r\n",
        "y_train[1]"
      ],
      "execution_count": 23,
      "outputs": [
        {
          "output_type": "execute_result",
          "data": {
            "text/plain": [
              "0"
            ]
          },
          "metadata": {
            "tags": []
          },
          "execution_count": 23
        }
      ]
    },
    {
      "cell_type": "code",
      "metadata": {
        "colab": {
          "base_uri": "https://localhost:8080/",
          "height": 0
        },
        "id": "_DFyqll_-U6M",
        "outputId": "f07b8536-ecc1-4f60-c935-c5fedb6332a9"
      },
      "source": [
        "y_test[0]"
      ],
      "execution_count": 25,
      "outputs": [
        {
          "output_type": "execute_result",
          "data": {
            "text/plain": [
              "0"
            ]
          },
          "metadata": {
            "tags": []
          },
          "execution_count": 25
        }
      ]
    },
    {
      "cell_type": "code",
      "metadata": {
        "colab": {
          "base_uri": "https://localhost:8080/",
          "height": 0
        },
        "id": "y2ujUIZT-X98",
        "outputId": "5cf292f8-1006-4afa-ce2b-7d1719a75e06"
      },
      "source": [
        "y_train[:60]"
      ],
      "execution_count": 26,
      "outputs": [
        {
          "output_type": "execute_result",
          "data": {
            "text/plain": [
              "array([0, 0, 0, 1, 0, 1, 1, 0, 1, 0, 1, 0, 0, 0, 0, 0, 0, 0, 1, 0, 0, 1,\n",
              "       0, 0, 0, 0, 0, 0, 0, 0, 0, 1, 0, 0, 0, 0, 1, 0, 0, 1, 0, 1, 1, 1,\n",
              "       0, 1, 0, 0, 1, 1, 0, 0, 0, 0, 1, 0, 1, 0, 0, 1])"
            ]
          },
          "metadata": {
            "tags": []
          },
          "execution_count": 26
        }
      ]
    },
    {
      "cell_type": "code",
      "metadata": {
        "colab": {
          "base_uri": "https://localhost:8080/",
          "height": 0
        },
        "id": "vGmF0qzZ-qcu",
        "outputId": "18c66b5a-80ca-48da-a41f-c3a8cd16743c"
      },
      "source": [
        "L = pd.DataFrame(y_train)\r\n",
        "L[0].value_counts()"
      ],
      "execution_count": 27,
      "outputs": [
        {
          "output_type": "execute_result",
          "data": {
            "text/plain": [
              "0    345\n",
              "1    192\n",
              "Name: 0, dtype: int64"
            ]
          },
          "metadata": {
            "tags": []
          },
          "execution_count": 27
        }
      ]
    },
    {
      "cell_type": "code",
      "metadata": {
        "colab": {
          "base_uri": "https://localhost:8080/",
          "height": 0
        },
        "id": "as6dF4Kw_lS8",
        "outputId": "9826fe77-3e83-4496-ef1b-436fb61d2205"
      },
      "source": [
        "X_train= X_train/255\r\n",
        "X_test= X_test/255 # coverting all from scale 0 to 255 --> 0 to 1\r\n",
        "X_train.shape"
      ],
      "execution_count": 35,
      "outputs": [
        {
          "output_type": "execute_result",
          "data": {
            "text/plain": [
              "(537, 8)"
            ]
          },
          "metadata": {
            "tags": []
          },
          "execution_count": 35
        }
      ]
    },
    {
      "cell_type": "code",
      "metadata": {
        "colab": {
          "base_uri": "https://localhost:8080/",
          "height": 0
        },
        "id": "TNJt6Txt_owL",
        "outputId": "4bc0cc61-b078-4627-a62e-fc8a3ac88685"
      },
      "source": [
        "X_test.shape"
      ],
      "execution_count": 36,
      "outputs": [
        {
          "output_type": "execute_result",
          "data": {
            "text/plain": [
              "(116, 8)"
            ]
          },
          "metadata": {
            "tags": []
          },
          "execution_count": 36
        }
      ]
    },
    {
      "cell_type": "code",
      "metadata": {
        "id": "EWZ8a1gffMUm"
      },
      "source": [
        "from tensorflow import keras\r\n",
        "y_train = keras.utils.to_categorical(y_train, 10)\r\n",
        "y_test = keras.utils.to_categorical(y_test, 10)"
      ],
      "execution_count": 38,
      "outputs": []
    },
    {
      "cell_type": "code",
      "metadata": {
        "collapsed": true,
        "id": "GcpHjFqJyXpM"
      },
      "source": [
        "# Initialize the constructor\n",
        "model = Sequential()\n",
        "# Define model architecture\n",
        "model.add(Dense(784,activation='relu'))\n",
        "model.add(Dense(100, activation ='relu'))\n",
        "model.add(Dense(10,activation='softmax'))"
      ],
      "execution_count": 39,
      "outputs": []
    },
    {
      "cell_type": "code",
      "metadata": {
        "id": "Oci_0WuvA7Ci"
      },
      "source": [
        "model.compile(loss='categorical_crossentropy',optimizer='adam',metrics=['accuracy'])\r\n"
      ],
      "execution_count": 40,
      "outputs": []
    },
    {
      "cell_type": "code",
      "metadata": {
        "colab": {
          "base_uri": "https://localhost:8080/",
          "height": 0
        },
        "id": "ZpfRaQm5eksK",
        "outputId": "c824b5e4-77d5-491b-8a0e-af7e484b4484"
      },
      "source": [
        "history = model.fit(X_train, y_train, epochs=100, batch_size=2000, verbose=1)"
      ],
      "execution_count": 43,
      "outputs": [
        {
          "output_type": "stream",
          "text": [
            "Epoch 1/100\n",
            "1/1 [==============================] - 0s 4ms/step - loss: 0.6635 - accuracy: 0.6425\n",
            "Epoch 2/100\n",
            "1/1 [==============================] - 0s 3ms/step - loss: 0.6637 - accuracy: 0.6425\n",
            "Epoch 3/100\n",
            "1/1 [==============================] - 0s 3ms/step - loss: 0.6639 - accuracy: 0.6425\n",
            "Epoch 4/100\n",
            "1/1 [==============================] - 0s 3ms/step - loss: 0.6639 - accuracy: 0.6425\n",
            "Epoch 5/100\n",
            "1/1 [==============================] - 0s 3ms/step - loss: 0.6637 - accuracy: 0.6425\n",
            "Epoch 6/100\n",
            "1/1 [==============================] - 0s 3ms/step - loss: 0.6631 - accuracy: 0.6425\n",
            "Epoch 7/100\n",
            "1/1 [==============================] - 0s 3ms/step - loss: 0.6624 - accuracy: 0.6425\n",
            "Epoch 8/100\n",
            "1/1 [==============================] - 0s 6ms/step - loss: 0.6614 - accuracy: 0.6425\n",
            "Epoch 9/100\n",
            "1/1 [==============================] - 0s 4ms/step - loss: 0.6605 - accuracy: 0.6425\n",
            "Epoch 10/100\n",
            "1/1 [==============================] - 0s 5ms/step - loss: 0.6597 - accuracy: 0.6425\n",
            "Epoch 11/100\n",
            "1/1 [==============================] - 0s 4ms/step - loss: 0.6590 - accuracy: 0.6425\n",
            "Epoch 12/100\n",
            "1/1 [==============================] - 0s 5ms/step - loss: 0.6585 - accuracy: 0.6425\n",
            "Epoch 13/100\n",
            "1/1 [==============================] - 0s 4ms/step - loss: 0.6582 - accuracy: 0.6425\n",
            "Epoch 14/100\n",
            "1/1 [==============================] - 0s 5ms/step - loss: 0.6582 - accuracy: 0.6425\n",
            "Epoch 15/100\n",
            "1/1 [==============================] - 0s 4ms/step - loss: 0.6582 - accuracy: 0.6425\n",
            "Epoch 16/100\n",
            "1/1 [==============================] - 0s 5ms/step - loss: 0.6582 - accuracy: 0.6425\n",
            "Epoch 17/100\n",
            "1/1 [==============================] - 0s 5ms/step - loss: 0.6582 - accuracy: 0.6425\n",
            "Epoch 18/100\n",
            "1/1 [==============================] - 0s 6ms/step - loss: 0.6582 - accuracy: 0.6425\n",
            "Epoch 19/100\n",
            "1/1 [==============================] - 0s 5ms/step - loss: 0.6580 - accuracy: 0.6425\n",
            "Epoch 20/100\n",
            "1/1 [==============================] - 0s 3ms/step - loss: 0.6578 - accuracy: 0.6425\n",
            "Epoch 21/100\n",
            "1/1 [==============================] - 0s 3ms/step - loss: 0.6575 - accuracy: 0.6425\n",
            "Epoch 22/100\n",
            "1/1 [==============================] - 0s 9ms/step - loss: 0.6571 - accuracy: 0.6425\n",
            "Epoch 23/100\n",
            "1/1 [==============================] - 0s 4ms/step - loss: 0.6569 - accuracy: 0.6425\n",
            "Epoch 24/100\n",
            "1/1 [==============================] - 0s 7ms/step - loss: 0.6566 - accuracy: 0.6425\n",
            "Epoch 25/100\n",
            "1/1 [==============================] - 0s 5ms/step - loss: 0.6565 - accuracy: 0.6425\n",
            "Epoch 26/100\n",
            "1/1 [==============================] - 0s 5ms/step - loss: 0.6564 - accuracy: 0.6425\n",
            "Epoch 27/100\n",
            "1/1 [==============================] - 0s 3ms/step - loss: 0.6563 - accuracy: 0.6425\n",
            "Epoch 28/100\n",
            "1/1 [==============================] - 0s 5ms/step - loss: 0.6563 - accuracy: 0.6425\n",
            "Epoch 29/100\n",
            "1/1 [==============================] - 0s 5ms/step - loss: 0.6563 - accuracy: 0.6425\n",
            "Epoch 30/100\n",
            "1/1 [==============================] - 0s 3ms/step - loss: 0.6562 - accuracy: 0.6425\n",
            "Epoch 31/100\n",
            "1/1 [==============================] - 0s 3ms/step - loss: 0.6562 - accuracy: 0.6425\n",
            "Epoch 32/100\n",
            "1/1 [==============================] - 0s 5ms/step - loss: 0.6560 - accuracy: 0.6425\n",
            "Epoch 33/100\n",
            "1/1 [==============================] - 0s 7ms/step - loss: 0.6559 - accuracy: 0.6425\n",
            "Epoch 34/100\n",
            "1/1 [==============================] - 0s 5ms/step - loss: 0.6558 - accuracy: 0.6425\n",
            "Epoch 35/100\n",
            "1/1 [==============================] - 0s 5ms/step - loss: 0.6557 - accuracy: 0.6425\n",
            "Epoch 36/100\n",
            "1/1 [==============================] - 0s 6ms/step - loss: 0.6556 - accuracy: 0.6425\n",
            "Epoch 37/100\n",
            "1/1 [==============================] - 0s 7ms/step - loss: 0.6555 - accuracy: 0.6425\n",
            "Epoch 38/100\n",
            "1/1 [==============================] - 0s 6ms/step - loss: 0.6554 - accuracy: 0.6425\n",
            "Epoch 39/100\n",
            "1/1 [==============================] - 0s 6ms/step - loss: 0.6554 - accuracy: 0.6425\n",
            "Epoch 40/100\n",
            "1/1 [==============================] - 0s 5ms/step - loss: 0.6553 - accuracy: 0.6425\n",
            "Epoch 41/100\n",
            "1/1 [==============================] - 0s 5ms/step - loss: 0.6553 - accuracy: 0.6425\n",
            "Epoch 42/100\n",
            "1/1 [==============================] - 0s 5ms/step - loss: 0.6553 - accuracy: 0.6425\n",
            "Epoch 43/100\n",
            "1/1 [==============================] - 0s 16ms/step - loss: 0.6552 - accuracy: 0.6425\n",
            "Epoch 44/100\n",
            "1/1 [==============================] - 0s 4ms/step - loss: 0.6551 - accuracy: 0.6425\n",
            "Epoch 45/100\n",
            "1/1 [==============================] - 0s 5ms/step - loss: 0.6551 - accuracy: 0.6425\n",
            "Epoch 46/100\n",
            "1/1 [==============================] - 0s 8ms/step - loss: 0.6550 - accuracy: 0.6425\n",
            "Epoch 47/100\n",
            "1/1 [==============================] - 0s 6ms/step - loss: 0.6549 - accuracy: 0.6425\n",
            "Epoch 48/100\n",
            "1/1 [==============================] - 0s 7ms/step - loss: 0.6549 - accuracy: 0.6425\n",
            "Epoch 49/100\n",
            "1/1 [==============================] - 0s 4ms/step - loss: 0.6548 - accuracy: 0.6425\n",
            "Epoch 50/100\n",
            "1/1 [==============================] - 0s 6ms/step - loss: 0.6548 - accuracy: 0.6425\n",
            "Epoch 51/100\n",
            "1/1 [==============================] - 0s 6ms/step - loss: 0.6548 - accuracy: 0.6425\n",
            "Epoch 52/100\n",
            "1/1 [==============================] - 0s 7ms/step - loss: 0.6547 - accuracy: 0.6425\n",
            "Epoch 53/100\n",
            "1/1 [==============================] - 0s 7ms/step - loss: 0.6547 - accuracy: 0.6425\n",
            "Epoch 54/100\n",
            "1/1 [==============================] - 0s 18ms/step - loss: 0.6547 - accuracy: 0.6425\n",
            "Epoch 55/100\n",
            "1/1 [==============================] - 0s 7ms/step - loss: 0.6546 - accuracy: 0.6425\n",
            "Epoch 56/100\n",
            "1/1 [==============================] - 0s 5ms/step - loss: 0.6546 - accuracy: 0.6425\n",
            "Epoch 57/100\n",
            "1/1 [==============================] - 0s 7ms/step - loss: 0.6545 - accuracy: 0.6425\n",
            "Epoch 58/100\n",
            "1/1 [==============================] - 0s 7ms/step - loss: 0.6545 - accuracy: 0.6425\n",
            "Epoch 59/100\n",
            "1/1 [==============================] - 0s 4ms/step - loss: 0.6545 - accuracy: 0.6425\n",
            "Epoch 60/100\n",
            "1/1 [==============================] - 0s 7ms/step - loss: 0.6544 - accuracy: 0.6425\n",
            "Epoch 61/100\n",
            "1/1 [==============================] - 0s 4ms/step - loss: 0.6544 - accuracy: 0.6425\n",
            "Epoch 62/100\n",
            "1/1 [==============================] - 0s 6ms/step - loss: 0.6544 - accuracy: 0.6425\n",
            "Epoch 63/100\n",
            "1/1 [==============================] - 0s 5ms/step - loss: 0.6543 - accuracy: 0.6425\n",
            "Epoch 64/100\n",
            "1/1 [==============================] - 0s 5ms/step - loss: 0.6543 - accuracy: 0.6425\n",
            "Epoch 65/100\n",
            "1/1 [==============================] - 0s 6ms/step - loss: 0.6543 - accuracy: 0.6425\n",
            "Epoch 66/100\n",
            "1/1 [==============================] - 0s 5ms/step - loss: 0.6542 - accuracy: 0.6425\n",
            "Epoch 67/100\n",
            "1/1 [==============================] - 0s 7ms/step - loss: 0.6542 - accuracy: 0.6425\n",
            "Epoch 68/100\n",
            "1/1 [==============================] - 0s 7ms/step - loss: 0.6542 - accuracy: 0.6425\n",
            "Epoch 69/100\n",
            "1/1 [==============================] - 0s 8ms/step - loss: 0.6542 - accuracy: 0.6425\n",
            "Epoch 70/100\n",
            "1/1 [==============================] - 0s 14ms/step - loss: 0.6541 - accuracy: 0.6425\n",
            "Epoch 71/100\n",
            "1/1 [==============================] - 0s 6ms/step - loss: 0.6541 - accuracy: 0.6425\n",
            "Epoch 72/100\n",
            "1/1 [==============================] - 0s 6ms/step - loss: 0.6541 - accuracy: 0.6425\n",
            "Epoch 73/100\n",
            "1/1 [==============================] - 0s 3ms/step - loss: 0.6540 - accuracy: 0.6425\n",
            "Epoch 74/100\n",
            "1/1 [==============================] - 0s 5ms/step - loss: 0.6540 - accuracy: 0.6425\n",
            "Epoch 75/100\n",
            "1/1 [==============================] - 0s 12ms/step - loss: 0.6540 - accuracy: 0.6425\n",
            "Epoch 76/100\n",
            "1/1 [==============================] - 0s 8ms/step - loss: 0.6540 - accuracy: 0.6425\n",
            "Epoch 77/100\n",
            "1/1 [==============================] - 0s 5ms/step - loss: 0.6539 - accuracy: 0.6425\n",
            "Epoch 78/100\n",
            "1/1 [==============================] - 0s 7ms/step - loss: 0.6539 - accuracy: 0.6425\n",
            "Epoch 79/100\n",
            "1/1 [==============================] - 0s 6ms/step - loss: 0.6539 - accuracy: 0.6425\n",
            "Epoch 80/100\n",
            "1/1 [==============================] - 0s 10ms/step - loss: 0.6539 - accuracy: 0.6425\n",
            "Epoch 81/100\n",
            "1/1 [==============================] - 0s 6ms/step - loss: 0.6539 - accuracy: 0.6425\n",
            "Epoch 82/100\n",
            "1/1 [==============================] - 0s 8ms/step - loss: 0.6538 - accuracy: 0.6425\n",
            "Epoch 83/100\n",
            "1/1 [==============================] - 0s 5ms/step - loss: 0.6538 - accuracy: 0.6425\n",
            "Epoch 84/100\n",
            "1/1 [==============================] - 0s 5ms/step - loss: 0.6538 - accuracy: 0.6425\n",
            "Epoch 85/100\n",
            "1/1 [==============================] - 0s 4ms/step - loss: 0.6538 - accuracy: 0.6425\n",
            "Epoch 86/100\n",
            "1/1 [==============================] - 0s 5ms/step - loss: 0.6538 - accuracy: 0.6425\n",
            "Epoch 87/100\n",
            "1/1 [==============================] - 0s 8ms/step - loss: 0.6537 - accuracy: 0.6425\n",
            "Epoch 88/100\n",
            "1/1 [==============================] - 0s 8ms/step - loss: 0.6537 - accuracy: 0.6425\n",
            "Epoch 89/100\n",
            "1/1 [==============================] - 0s 10ms/step - loss: 0.6537 - accuracy: 0.6425\n",
            "Epoch 90/100\n",
            "1/1 [==============================] - 0s 10ms/step - loss: 0.6537 - accuracy: 0.6425\n",
            "Epoch 91/100\n",
            "1/1 [==============================] - 0s 5ms/step - loss: 0.6537 - accuracy: 0.6425\n",
            "Epoch 92/100\n",
            "1/1 [==============================] - 0s 5ms/step - loss: 0.6536 - accuracy: 0.6425\n",
            "Epoch 93/100\n",
            "1/1 [==============================] - 0s 5ms/step - loss: 0.6536 - accuracy: 0.6425\n",
            "Epoch 94/100\n",
            "1/1 [==============================] - 0s 8ms/step - loss: 0.6536 - accuracy: 0.6425\n",
            "Epoch 95/100\n",
            "1/1 [==============================] - 0s 5ms/step - loss: 0.6536 - accuracy: 0.6425\n",
            "Epoch 96/100\n",
            "1/1 [==============================] - 0s 8ms/step - loss: 0.6536 - accuracy: 0.6425\n",
            "Epoch 97/100\n",
            "1/1 [==============================] - 0s 6ms/step - loss: 0.6536 - accuracy: 0.6425\n",
            "Epoch 98/100\n",
            "1/1 [==============================] - 0s 8ms/step - loss: 0.6535 - accuracy: 0.6425\n",
            "Epoch 99/100\n",
            "1/1 [==============================] - 0s 5ms/step - loss: 0.6535 - accuracy: 0.6425\n",
            "Epoch 100/100\n",
            "1/1 [==============================] - 0s 5ms/step - loss: 0.6535 - accuracy: 0.6425\n"
          ],
          "name": "stdout"
        }
      ]
    },
    {
      "cell_type": "code",
      "metadata": {
        "colab": {
          "base_uri": "https://localhost:8080/",
          "height": 0
        },
        "id": "IsZ2V7lyfywj",
        "outputId": "24cd028c-cbae-4ee7-ead8-1261ea01db54"
      },
      "source": [
        "loss, acc = model.evaluate(X_test, y_test, verbose=0)\r\n",
        "print('Accuracy: %.3f' % acc)\r\n",
        "print('Loss: %.3f' % loss)"
      ],
      "execution_count": 45,
      "outputs": [
        {
          "output_type": "stream",
          "text": [
            "Accuracy: 0.629\n",
            "Loss: 0.661\n"
          ],
          "name": "stdout"
        }
      ]
    },
    {
      "cell_type": "code",
      "metadata": {
        "colab": {
          "base_uri": "https://localhost:8080/",
          "height": 0
        },
        "id": "7d3Ah_k_hBUK",
        "outputId": "ec29d1f9-f74d-4fdd-9198-b6de424234df"
      },
      "source": [
        "y_predict = model.predict(X_test)\r\n",
        "y_predict[0]"
      ],
      "execution_count": 46,
      "outputs": [
        {
          "output_type": "execute_result",
          "data": {
            "text/plain": [
              "array([6.4246005e-01, 3.5608384e-01, 1.2015342e-04, 1.3679852e-04,\n",
              "       2.4808673e-04, 5.3183991e-05, 6.0911407e-05, 1.3907952e-04,\n",
              "       1.7957372e-04, 5.1838334e-04], dtype=float32)"
            ]
          },
          "metadata": {
            "tags": []
          },
          "execution_count": 46
        }
      ]
    },
    {
      "cell_type": "code",
      "metadata": {
        "colab": {
          "base_uri": "https://localhost:8080/",
          "height": 0
        },
        "id": "UzT7-JTshEyQ",
        "outputId": "26bc9dfd-db4b-4cc2-fbdd-75b21e96e258"
      },
      "source": [
        "np.argmax(y_predict[0])"
      ],
      "execution_count": 47,
      "outputs": [
        {
          "output_type": "execute_result",
          "data": {
            "text/plain": [
              "0"
            ]
          },
          "metadata": {
            "tags": []
          },
          "execution_count": 47
        }
      ]
    },
    {
      "cell_type": "markdown",
      "metadata": {
        "id": "UBCqirWwyXpN"
      },
      "source": [
        "> -------"
      ]
    },
    {
      "cell_type": "markdown",
      "metadata": {
        "id": "cZv7OepyyXpR"
      },
      "source": [
        "##### Train the model"
      ]
    },
    {
      "cell_type": "code",
      "metadata": {
        "colab": {
          "base_uri": "https://localhost:8080/",
          "height": 279
        },
        "id": "4-_xxa-qyXpS",
        "outputId": "0231c5a8-d8a2-4202-c09a-1ee138451278"
      },
      "source": [
        "#plot \n",
        "figure= plt.figure(figsize=(10,4))\n",
        "ax = plt.subplot(121)\n",
        "ax.plot(history.history['loss'], 'r')\n",
        "\n",
        "plt.grid(axis='y')\n",
        "plt.xlabel(\"epoch\")\n",
        "plt.ylabel(\"Loss\")\n",
        "\n",
        "ax2 = plt.subplot(122)\n",
        "ax2.plot(history.history['accuracy'], 'b')\n",
        "plt.xlabel(\"epoch\")\n",
        "plt.ylabel(\"accuracy\")\n",
        "plt.grid(axis='y')\n",
        "#plt.savefig(\"mnist_training\")"
      ],
      "execution_count": 48,
      "outputs": [
        {
          "output_type": "display_data",
          "data": {
            "image/png": "[encoded data removed]",
            "text/plain": [
              "<Figure size 720x288 with 2 Axes>"
            ]
          },
          "metadata": {
            "tags": [],
            "needs_background": "light"
          }
        }
      ]
    },
    {
      "cell_type": "code",
      "metadata": {
        "colab": {
          "base_uri": "https://localhost:8080/",
          "height": 0
        },
        "id": "Em89J1XiyXpT",
        "outputId": "1ee93150-410c-4f74-9b6e-b9f4e58b55c5"
      },
      "source": [
        "# without softmax\n",
        "predictions = model(X_train[:1]).numpy()\n",
        "predictions"
      ],
      "execution_count": 50,
      "outputs": [
        {
          "output_type": "execute_result",
          "data": {
            "text/plain": [
              "array([[6.4189851e-01, 3.5660484e-01, 1.2379987e-04, 1.4087552e-04,\n",
              "        2.5491632e-04, 5.4949738e-05, 6.2907973e-05, 1.4321304e-04,\n",
              "        1.8474417e-04, 5.3123548e-04]], dtype=float32)"
            ]
          },
          "metadata": {
            "tags": []
          },
          "execution_count": 50
        }
      ]
    },
    {
      "cell_type": "code",
      "metadata": {
        "collapsed": true,
        "colab": {
          "base_uri": "https://localhost:8080/",
          "height": 0
        },
        "id": "jcJ5-smkyXpU",
        "outputId": "ff8b2948-a29b-4c93-8999-6743c32e5549"
      },
      "source": [
        "predictions.sum()"
      ],
      "execution_count": 51,
      "outputs": [
        {
          "output_type": "execute_result",
          "data": {
            "text/plain": [
              "1.0"
            ]
          },
          "metadata": {
            "tags": []
          },
          "execution_count": 51
        }
      ]
    },
    {
      "cell_type": "code",
      "metadata": {
        "colab": {
          "base_uri": "https://localhost:8080/",
          "height": 0
        },
        "id": "0B-2nEWDyXpU",
        "outputId": "9e9217b6-fa14-4fae-eb52-96194abfe9c2"
      },
      "source": [
        "# with softmax\n",
        "predictions_with_softmax = tf.nn.softmax(model(X_train[:1])).numpy()\n",
        "predictions_with_softmax"
      ],
      "execution_count": 52,
      "outputs": [
        {
          "output_type": "execute_result",
          "data": {
            "text/plain": [
              "array([[0.16770309, 0.12607808, 0.08827177, 0.08827329, 0.08828335,\n",
              "        0.0882657 , 0.0882664 , 0.0882735 , 0.08827715, 0.08830775]],\n",
              "      dtype=float32)"
            ]
          },
          "metadata": {
            "tags": []
          },
          "execution_count": 52
        }
      ]
    },
    {
      "cell_type": "code",
      "metadata": {
        "colab": {
          "base_uri": "https://localhost:8080/",
          "height": 0
        },
        "id": "sjzOuADFyXpU",
        "outputId": "11613ca9-3a64-4ad9-b029-891fa72ee9cb"
      },
      "source": [
        "predictions_with_softmax.sum()"
      ],
      "execution_count": 53,
      "outputs": [
        {
          "output_type": "execute_result",
          "data": {
            "text/plain": [
              "1.0000001"
            ]
          },
          "metadata": {
            "tags": []
          },
          "execution_count": 53
        }
      ]
    },
    {
      "cell_type": "code",
      "metadata": {
        "colab": {
          "base_uri": "https://localhost:8080/",
          "height": 0
        },
        "id": "Zlpuf3zK7WRA",
        "outputId": "eab58fa1-ce9e-409d-9233-f405faaba636"
      },
      "source": [
        "model.summary()"
      ],
      "execution_count": 54,
      "outputs": [
        {
          "output_type": "stream",
          "text": [
            "Model: \"sequential\"\n",
            "_________________________________________________________________\n",
            "Layer (type)                 Output Shape              Param #   \n",
            "=================================================================\n",
            "dense (Dense)                (None, 784)               7056      \n",
            "_________________________________________________________________\n",
            "dense_1 (Dense)              (None, 100)               78500     \n",
            "_________________________________________________________________\n",
            "dense_2 (Dense)              (None, 10)                1010      \n",
            "=================================================================\n",
            "Total params: 86,566\n",
            "Trainable params: 86,566\n",
            "Non-trainable params: 0\n",
            "_________________________________________________________________\n"
          ],
          "name": "stdout"
        }
      ]
    },
    {
      "cell_type": "code",
      "metadata": {
        "id": "DX9fBFWI8WOG"
      },
      "source": [
        "# Initialize the constructor\r\n",
        "model2 = Sequential()\r\n",
        "# Define model architecture\r\n",
        "model2.add(Dense(784,activation='tanh'))\r\n",
        "model2.add(Dense(100, activation ='tanh'))\r\n",
        "model2.add(Dense(10,activation='softmax'))\r\n",
        "model2.add(tf.keras.layers.Flatten())\r\n",
        "model2.add(tf.keras.layers.Dense(64, activation=\"relu\"))\r\n",
        "model2.add(tf.keras.layers.Dense(10))\r\n"
      ],
      "execution_count": 73,
      "outputs": []
    },
    {
      "cell_type": "code",
      "metadata": {
        "id": "bwW5pTvt7tSh"
      },
      "source": [
        "model2.compile(loss='binary_crossentropy', optimizer=Adam(), metrics=['accuracy'])"
      ],
      "execution_count": 74,
      "outputs": []
    },
    {
      "cell_type": "code",
      "metadata": {
        "colab": {
          "base_uri": "https://localhost:8080/",
          "height": 0
        },
        "id": "ZCPwHA067zcZ",
        "outputId": "196e6264-9885-4f54-9175-e8838ae2eceb"
      },
      "source": [
        "history = model2.fit(X_train, y_train, epochs=200, batch_size=20000, verbose=1)\r\n"
      ],
      "execution_count": 75,
      "outputs": [
        {
          "output_type": "stream",
          "text": [
            "Epoch 1/200\n",
            "1/1 [==============================] - 0s 446ms/step - loss: 0.8146 - accuracy: 0.0000e+00\n",
            "Epoch 2/200\n",
            "1/1 [==============================] - 0s 4ms/step - loss: 0.7847 - accuracy: 0.0000e+00\n",
            "Epoch 3/200\n",
            "1/1 [==============================] - 0s 5ms/step - loss: 0.7641 - accuracy: 0.0000e+00\n",
            "Epoch 4/200\n",
            "1/1 [==============================] - 0s 3ms/step - loss: 0.7482 - accuracy: 0.0000e+00\n",
            "Epoch 5/200\n",
            "1/1 [==============================] - 0s 5ms/step - loss: 0.7360 - accuracy: 0.6425\n",
            "Epoch 6/200\n",
            "1/1 [==============================] - 0s 5ms/step - loss: 0.7258 - accuracy: 0.6425\n",
            "Epoch 7/200\n",
            "1/1 [==============================] - 0s 6ms/step - loss: 0.7162 - accuracy: 0.6425\n",
            "Epoch 8/200\n",
            "1/1 [==============================] - 0s 6ms/step - loss: 0.7078 - accuracy: 0.6425\n",
            "Epoch 9/200\n",
            "1/1 [==============================] - 0s 5ms/step - loss: 0.6998 - accuracy: 0.6425\n",
            "Epoch 10/200\n",
            "1/1 [==============================] - 0s 4ms/step - loss: 0.6923 - accuracy: 0.6425\n",
            "Epoch 11/200\n",
            "1/1 [==============================] - 0s 6ms/step - loss: 0.6860 - accuracy: 0.6425\n",
            "Epoch 12/200\n",
            "1/1 [==============================] - 0s 4ms/step - loss: 0.6800 - accuracy: 0.6425\n",
            "Epoch 13/200\n",
            "1/1 [==============================] - 0s 3ms/step - loss: 0.6750 - accuracy: 0.6425\n",
            "Epoch 14/200\n",
            "1/1 [==============================] - 0s 5ms/step - loss: 0.6697 - accuracy: 0.6425\n",
            "Epoch 15/200\n",
            "1/1 [==============================] - 0s 4ms/step - loss: 0.6648 - accuracy: 0.6425\n",
            "Epoch 16/200\n",
            "1/1 [==============================] - 0s 5ms/step - loss: 0.6607 - accuracy: 0.6425\n",
            "Epoch 17/200\n",
            "1/1 [==============================] - 0s 5ms/step - loss: 0.6567 - accuracy: 0.6425\n",
            "Epoch 18/200\n",
            "1/1 [==============================] - 0s 6ms/step - loss: 0.6527 - accuracy: 0.6425\n",
            "Epoch 19/200\n",
            "1/1 [==============================] - 0s 3ms/step - loss: 0.6492 - accuracy: 0.6425\n",
            "Epoch 20/200\n",
            "1/1 [==============================] - 0s 4ms/step - loss: 0.6456 - accuracy: 0.6425\n",
            "Epoch 21/200\n",
            "1/1 [==============================] - 0s 6ms/step - loss: 0.6420 - accuracy: 0.6425\n",
            "Epoch 22/200\n",
            "1/1 [==============================] - 0s 4ms/step - loss: 0.6385 - accuracy: 0.6425\n",
            "Epoch 23/200\n",
            "1/1 [==============================] - 0s 4ms/step - loss: 0.6356 - accuracy: 0.6425\n",
            "Epoch 24/200\n",
            "1/1 [==============================] - 0s 5ms/step - loss: 0.6328 - accuracy: 0.6425\n",
            "Epoch 25/200\n",
            "1/1 [==============================] - 0s 7ms/step - loss: 0.6305 - accuracy: 0.6425\n",
            "Epoch 26/200\n",
            "1/1 [==============================] - 0s 3ms/step - loss: 0.6284 - accuracy: 0.6425\n",
            "Epoch 27/200\n",
            "1/1 [==============================] - 0s 3ms/step - loss: 0.6270 - accuracy: 0.6425\n",
            "Epoch 28/200\n",
            "1/1 [==============================] - 0s 3ms/step - loss: 0.6259 - accuracy: 0.6425\n",
            "Epoch 29/200\n",
            "1/1 [==============================] - 0s 5ms/step - loss: 0.6250 - accuracy: 0.6425\n",
            "Epoch 30/200\n",
            "1/1 [==============================] - 0s 5ms/step - loss: 0.6242 - accuracy: 0.6425\n",
            "Epoch 31/200\n",
            "1/1 [==============================] - 0s 5ms/step - loss: 0.6234 - accuracy: 0.6425\n",
            "Epoch 32/200\n",
            "1/1 [==============================] - 0s 4ms/step - loss: 0.6227 - accuracy: 0.6425\n",
            "Epoch 33/200\n",
            "1/1 [==============================] - 0s 7ms/step - loss: 0.6220 - accuracy: 0.6425\n",
            "Epoch 34/200\n",
            "1/1 [==============================] - 0s 5ms/step - loss: 0.6215 - accuracy: 0.6425\n",
            "Epoch 35/200\n",
            "1/1 [==============================] - 0s 6ms/step - loss: 0.6209 - accuracy: 0.6425\n",
            "Epoch 36/200\n",
            "1/1 [==============================] - 0s 4ms/step - loss: 0.6204 - accuracy: 0.6425\n",
            "Epoch 37/200\n",
            "1/1 [==============================] - 0s 8ms/step - loss: 0.6199 - accuracy: 0.6425\n",
            "Epoch 38/200\n",
            "1/1 [==============================] - 0s 7ms/step - loss: 0.6195 - accuracy: 0.6425\n",
            "Epoch 39/200\n",
            "1/1 [==============================] - 0s 3ms/step - loss: 0.6192 - accuracy: 0.6425\n",
            "Epoch 40/200\n",
            "1/1 [==============================] - 0s 3ms/step - loss: 0.6188 - accuracy: 0.6425\n",
            "Epoch 41/200\n",
            "1/1 [==============================] - 0s 8ms/step - loss: 0.6185 - accuracy: 0.6425\n",
            "Epoch 42/200\n",
            "1/1 [==============================] - 0s 4ms/step - loss: 0.6182 - accuracy: 0.6425\n",
            "Epoch 43/200\n",
            "1/1 [==============================] - 0s 3ms/step - loss: 0.6180 - accuracy: 0.6425\n",
            "Epoch 44/200\n",
            "1/1 [==============================] - 0s 6ms/step - loss: 0.6178 - accuracy: 0.6425\n",
            "Epoch 45/200\n",
            "1/1 [==============================] - 0s 8ms/step - loss: 0.6176 - accuracy: 0.6425\n",
            "Epoch 46/200\n",
            "1/1 [==============================] - 0s 5ms/step - loss: 0.6174 - accuracy: 0.6425\n",
            "Epoch 47/200\n",
            "1/1 [==============================] - 0s 4ms/step - loss: 0.6173 - accuracy: 0.6425\n",
            "Epoch 48/200\n",
            "1/1 [==============================] - 0s 5ms/step - loss: 0.6172 - accuracy: 0.6425\n",
            "Epoch 49/200\n",
            "1/1 [==============================] - 0s 8ms/step - loss: 0.6170 - accuracy: 0.6425\n",
            "Epoch 50/200\n",
            "1/1 [==============================] - 0s 8ms/step - loss: 0.6170 - accuracy: 0.6425\n",
            "Epoch 51/200\n",
            "1/1 [==============================] - 0s 6ms/step - loss: 0.6169 - accuracy: 0.6425\n",
            "Epoch 52/200\n",
            "1/1 [==============================] - 0s 4ms/step - loss: 0.6168 - accuracy: 0.6425\n",
            "Epoch 53/200\n",
            "1/1 [==============================] - 0s 8ms/step - loss: 0.6168 - accuracy: 0.6425\n",
            "Epoch 54/200\n",
            "1/1 [==============================] - 0s 7ms/step - loss: 0.6168 - accuracy: 0.6425\n",
            "Epoch 55/200\n",
            "1/1 [==============================] - 0s 5ms/step - loss: 0.6167 - accuracy: 0.6425\n",
            "Epoch 56/200\n",
            "1/1 [==============================] - 0s 5ms/step - loss: 0.6167 - accuracy: 0.6425\n",
            "Epoch 57/200\n",
            "1/1 [==============================] - 0s 6ms/step - loss: 0.6167 - accuracy: 0.6425\n",
            "Epoch 58/200\n",
            "1/1 [==============================] - 0s 5ms/step - loss: 0.6167 - accuracy: 0.6425\n",
            "Epoch 59/200\n",
            "1/1 [==============================] - 0s 6ms/step - loss: 0.6167 - accuracy: 0.6425\n",
            "Epoch 60/200\n",
            "1/1 [==============================] - 0s 7ms/step - loss: 0.6167 - accuracy: 0.6425\n",
            "Epoch 61/200\n",
            "1/1 [==============================] - 0s 10ms/step - loss: 0.6167 - accuracy: 0.6425\n",
            "Epoch 62/200\n",
            "1/1 [==============================] - 0s 12ms/step - loss: 0.6167 - accuracy: 0.6425\n",
            "Epoch 63/200\n",
            "1/1 [==============================] - 0s 13ms/step - loss: 0.6167 - accuracy: 0.6425\n",
            "Epoch 64/200\n",
            "1/1 [==============================] - 0s 6ms/step - loss: 0.6167 - accuracy: 0.6425\n",
            "Epoch 65/200\n",
            "1/1 [==============================] - 0s 4ms/step - loss: 0.6167 - accuracy: 0.6425\n",
            "Epoch 66/200\n",
            "1/1 [==============================] - 0s 8ms/step - loss: 0.6168 - accuracy: 0.6425\n",
            "Epoch 67/200\n",
            "1/1 [==============================] - 0s 8ms/step - loss: 0.6168 - accuracy: 0.6425\n",
            "Epoch 68/200\n",
            "1/1 [==============================] - 0s 5ms/step - loss: 0.6168 - accuracy: 0.6425\n",
            "Epoch 69/200\n",
            "1/1 [==============================] - 0s 6ms/step - loss: 0.6168 - accuracy: 0.6425\n",
            "Epoch 70/200\n",
            "1/1 [==============================] - 0s 9ms/step - loss: 0.6168 - accuracy: 0.6425\n",
            "Epoch 71/200\n",
            "1/1 [==============================] - 0s 8ms/step - loss: 0.6168 - accuracy: 0.6425\n",
            "Epoch 72/200\n",
            "1/1 [==============================] - 0s 6ms/step - loss: 0.6168 - accuracy: 0.6425\n",
            "Epoch 73/200\n",
            "1/1 [==============================] - 0s 8ms/step - loss: 0.6167 - accuracy: 0.6425\n",
            "Epoch 74/200\n",
            "1/1 [==============================] - 0s 6ms/step - loss: 0.6167 - accuracy: 0.6425\n",
            "Epoch 75/200\n",
            "1/1 [==============================] - 0s 8ms/step - loss: 0.6167 - accuracy: 0.6425\n",
            "Epoch 76/200\n",
            "1/1 [==============================] - 0s 6ms/step - loss: 0.6167 - accuracy: 0.6425\n",
            "Epoch 77/200\n",
            "1/1 [==============================] - 0s 6ms/step - loss: 0.6167 - accuracy: 0.6425\n",
            "Epoch 78/200\n",
            "1/1 [==============================] - 0s 6ms/step - loss: 0.6167 - accuracy: 0.6425\n",
            "Epoch 79/200\n",
            "1/1 [==============================] - 0s 6ms/step - loss: 0.6167 - accuracy: 0.6425\n",
            "Epoch 80/200\n",
            "1/1 [==============================] - 0s 8ms/step - loss: 0.6167 - accuracy: 0.6425\n",
            "Epoch 81/200\n",
            "1/1 [==============================] - 0s 10ms/step - loss: 0.6167 - accuracy: 0.6425\n",
            "Epoch 82/200\n",
            "1/1 [==============================] - 0s 8ms/step - loss: 0.6167 - accuracy: 0.6425\n",
            "Epoch 83/200\n",
            "1/1 [==============================] - 0s 7ms/step - loss: 0.6167 - accuracy: 0.6425\n",
            "Epoch 84/200\n",
            "1/1 [==============================] - 0s 8ms/step - loss: 0.6167 - accuracy: 0.6425\n",
            "Epoch 85/200\n",
            "1/1 [==============================] - 0s 7ms/step - loss: 0.6167 - accuracy: 0.6425\n",
            "Epoch 86/200\n",
            "1/1 [==============================] - 0s 8ms/step - loss: 0.6167 - accuracy: 0.6425\n",
            "Epoch 87/200\n",
            "1/1 [==============================] - 0s 7ms/step - loss: 0.6167 - accuracy: 0.6425\n",
            "Epoch 88/200\n",
            "1/1 [==============================] - 0s 7ms/step - loss: 0.6167 - accuracy: 0.6425\n",
            "Epoch 89/200\n",
            "1/1 [==============================] - 0s 7ms/step - loss: 0.6167 - accuracy: 0.6425\n",
            "Epoch 90/200\n",
            "1/1 [==============================] - 0s 7ms/step - loss: 0.6167 - accuracy: 0.6425\n",
            "Epoch 91/200\n",
            "1/1 [==============================] - 0s 7ms/step - loss: 0.6167 - accuracy: 0.6425\n",
            "Epoch 92/200\n",
            "1/1 [==============================] - 0s 7ms/step - loss: 0.6167 - accuracy: 0.6425\n",
            "Epoch 93/200\n",
            "1/1 [==============================] - 0s 8ms/step - loss: 0.6167 - accuracy: 0.6425\n",
            "Epoch 94/200\n",
            "1/1 [==============================] - 0s 18ms/step - loss: 0.6167 - accuracy: 0.6425\n",
            "Epoch 95/200\n",
            "1/1 [==============================] - 0s 8ms/step - loss: 0.6167 - accuracy: 0.6425\n",
            "Epoch 96/200\n",
            "1/1 [==============================] - 0s 7ms/step - loss: 0.6167 - accuracy: 0.6425\n",
            "Epoch 97/200\n",
            "1/1 [==============================] - 0s 11ms/step - loss: 0.6167 - accuracy: 0.6425\n",
            "Epoch 98/200\n",
            "1/1 [==============================] - 0s 8ms/step - loss: 0.6167 - accuracy: 0.6425\n",
            "Epoch 99/200\n",
            "1/1 [==============================] - 0s 11ms/step - loss: 0.6167 - accuracy: 0.6425\n",
            "Epoch 100/200\n",
            "1/1 [==============================] - 0s 15ms/step - loss: 0.6167 - accuracy: 0.6425\n",
            "Epoch 101/200\n",
            "1/1 [==============================] - 0s 10ms/step - loss: 0.6167 - accuracy: 0.6425\n",
            "Epoch 102/200\n",
            "1/1 [==============================] - 0s 7ms/step - loss: 0.6167 - accuracy: 0.6425\n",
            "Epoch 103/200\n",
            "1/1 [==============================] - 0s 10ms/step - loss: 0.6167 - accuracy: 0.6425\n",
            "Epoch 104/200\n",
            "1/1 [==============================] - 0s 6ms/step - loss: 0.6167 - accuracy: 0.6425\n",
            "Epoch 105/200\n",
            "1/1 [==============================] - 0s 9ms/step - loss: 0.6167 - accuracy: 0.6425\n",
            "Epoch 106/200\n",
            "1/1 [==============================] - 0s 8ms/step - loss: 0.6167 - accuracy: 0.6425\n",
            "Epoch 107/200\n",
            "1/1 [==============================] - 0s 10ms/step - loss: 0.6167 - accuracy: 0.6425\n",
            "Epoch 108/200\n",
            "1/1 [==============================] - 0s 7ms/step - loss: 0.6167 - accuracy: 0.6425\n",
            "Epoch 109/200\n",
            "1/1 [==============================] - 0s 7ms/step - loss: 0.6167 - accuracy: 0.6425\n",
            "Epoch 110/200\n",
            "1/1 [==============================] - 0s 9ms/step - loss: 0.6167 - accuracy: 0.6425\n",
            "Epoch 111/200\n",
            "1/1 [==============================] - 0s 8ms/step - loss: 0.6167 - accuracy: 0.6425\n",
            "Epoch 112/200\n",
            "1/1 [==============================] - 0s 9ms/step - loss: 0.6167 - accuracy: 0.6425\n",
            "Epoch 113/200\n",
            "1/1 [==============================] - 0s 9ms/step - loss: 0.6167 - accuracy: 0.6425\n",
            "Epoch 114/200\n",
            "1/1 [==============================] - 0s 6ms/step - loss: 0.6167 - accuracy: 0.6425\n",
            "Epoch 115/200\n",
            "1/1 [==============================] - 0s 7ms/step - loss: 0.6167 - accuracy: 0.6425\n",
            "Epoch 116/200\n",
            "1/1 [==============================] - 0s 6ms/step - loss: 0.6167 - accuracy: 0.6425\n",
            "Epoch 117/200\n",
            "1/1 [==============================] - 0s 11ms/step - loss: 0.6167 - accuracy: 0.6425\n",
            "Epoch 118/200\n",
            "1/1 [==============================] - 0s 6ms/step - loss: 0.6167 - accuracy: 0.6425\n",
            "Epoch 119/200\n",
            "1/1 [==============================] - 0s 5ms/step - loss: 0.6167 - accuracy: 0.6425\n",
            "Epoch 120/200\n",
            "1/1 [==============================] - 0s 8ms/step - loss: 0.6167 - accuracy: 0.6425\n",
            "Epoch 121/200\n",
            "1/1 [==============================] - 0s 4ms/step - loss: 0.6167 - accuracy: 0.6425\n",
            "Epoch 122/200\n",
            "1/1 [==============================] - 0s 6ms/step - loss: 0.6167 - accuracy: 0.6425\n",
            "Epoch 123/200\n",
            "1/1 [==============================] - 0s 8ms/step - loss: 0.6167 - accuracy: 0.6425\n",
            "Epoch 124/200\n",
            "1/1 [==============================] - 0s 6ms/step - loss: 0.6167 - accuracy: 0.6425\n",
            "Epoch 125/200\n",
            "1/1 [==============================] - 0s 6ms/step - loss: 0.6167 - accuracy: 0.6425\n",
            "Epoch 126/200\n",
            "1/1 [==============================] - 0s 5ms/step - loss: 0.6167 - accuracy: 0.6425\n",
            "Epoch 127/200\n",
            "1/1 [==============================] - 0s 7ms/step - loss: 0.6167 - accuracy: 0.6425\n",
            "Epoch 128/200\n",
            "1/1 [==============================] - 0s 6ms/step - loss: 0.6167 - accuracy: 0.6425\n",
            "Epoch 129/200\n",
            "1/1 [==============================] - 0s 8ms/step - loss: 0.6167 - accuracy: 0.6425\n",
            "Epoch 130/200\n",
            "1/1 [==============================] - 0s 4ms/step - loss: 0.6167 - accuracy: 0.6425\n",
            "Epoch 131/200\n",
            "1/1 [==============================] - 0s 10ms/step - loss: 0.6167 - accuracy: 0.6425\n",
            "Epoch 132/200\n",
            "1/1 [==============================] - 0s 11ms/step - loss: 0.6167 - accuracy: 0.6425\n",
            "Epoch 133/200\n",
            "1/1 [==============================] - 0s 7ms/step - loss: 0.6167 - accuracy: 0.6425\n",
            "Epoch 134/200\n",
            "1/1 [==============================] - 0s 6ms/step - loss: 0.6167 - accuracy: 0.6425\n",
            "Epoch 135/200\n",
            "1/1 [==============================] - 0s 4ms/step - loss: 0.6167 - accuracy: 0.6425\n",
            "Epoch 136/200\n",
            "1/1 [==============================] - 0s 9ms/step - loss: 0.6167 - accuracy: 0.6425\n",
            "Epoch 137/200\n",
            "1/1 [==============================] - 0s 7ms/step - loss: 0.6167 - accuracy: 0.6425\n",
            "Epoch 138/200\n",
            "1/1 [==============================] - 0s 7ms/step - loss: 0.6167 - accuracy: 0.6425\n",
            "Epoch 139/200\n",
            "1/1 [==============================] - 0s 11ms/step - loss: 0.6167 - accuracy: 0.6425\n",
            "Epoch 140/200\n",
            "1/1 [==============================] - 0s 7ms/step - loss: 0.6167 - accuracy: 0.6425\n",
            "Epoch 141/200\n",
            "1/1 [==============================] - 0s 9ms/step - loss: 0.6167 - accuracy: 0.6425\n",
            "Epoch 142/200\n",
            "1/1 [==============================] - 0s 8ms/step - loss: 0.6167 - accuracy: 0.6425\n",
            "Epoch 143/200\n",
            "1/1 [==============================] - 0s 7ms/step - loss: 0.6167 - accuracy: 0.6425\n",
            "Epoch 144/200\n",
            "1/1 [==============================] - 0s 8ms/step - loss: 0.6167 - accuracy: 0.6425\n",
            "Epoch 145/200\n",
            "1/1 [==============================] - 0s 6ms/step - loss: 0.6167 - accuracy: 0.6425\n",
            "Epoch 146/200\n",
            "1/1 [==============================] - 0s 8ms/step - loss: 0.6167 - accuracy: 0.6425\n",
            "Epoch 147/200\n",
            "1/1 [==============================] - 0s 7ms/step - loss: 0.6167 - accuracy: 0.6425\n",
            "Epoch 148/200\n",
            "1/1 [==============================] - 0s 8ms/step - loss: 0.6167 - accuracy: 0.6425\n",
            "Epoch 149/200\n",
            "1/1 [==============================] - 0s 10ms/step - loss: 0.6167 - accuracy: 0.6425\n",
            "Epoch 150/200\n",
            "1/1 [==============================] - 0s 11ms/step - loss: 0.6167 - accuracy: 0.6425\n",
            "Epoch 151/200\n",
            "1/1 [==============================] - 0s 7ms/step - loss: 0.6167 - accuracy: 0.6425\n",
            "Epoch 152/200\n",
            "1/1 [==============================] - 0s 5ms/step - loss: 0.6167 - accuracy: 0.6425\n",
            "Epoch 153/200\n",
            "1/1 [==============================] - 0s 7ms/step - loss: 0.6167 - accuracy: 0.6425\n",
            "Epoch 154/200\n",
            "1/1 [==============================] - 0s 6ms/step - loss: 0.6167 - accuracy: 0.6425\n",
            "Epoch 155/200\n",
            "1/1 [==============================] - 0s 6ms/step - loss: 0.6167 - accuracy: 0.6425\n",
            "Epoch 156/200\n",
            "1/1 [==============================] - 0s 6ms/step - loss: 0.6167 - accuracy: 0.6425\n",
            "Epoch 157/200\n",
            "1/1 [==============================] - 0s 10ms/step - loss: 0.6167 - accuracy: 0.6425\n",
            "Epoch 158/200\n",
            "1/1 [==============================] - 0s 9ms/step - loss: 0.6167 - accuracy: 0.6425\n",
            "Epoch 159/200\n",
            "1/1 [==============================] - 0s 6ms/step - loss: 0.6167 - accuracy: 0.6425\n",
            "Epoch 160/200\n",
            "1/1 [==============================] - 0s 8ms/step - loss: 0.6167 - accuracy: 0.6425\n",
            "Epoch 161/200\n",
            "1/1 [==============================] - 0s 8ms/step - loss: 0.6167 - accuracy: 0.6425\n",
            "Epoch 162/200\n",
            "1/1 [==============================] - 0s 10ms/step - loss: 0.6167 - accuracy: 0.6425\n",
            "Epoch 163/200\n",
            "1/1 [==============================] - 0s 10ms/step - loss: 0.6167 - accuracy: 0.6425\n",
            "Epoch 164/200\n",
            "1/1 [==============================] - 0s 8ms/step - loss: 0.6167 - accuracy: 0.6425\n",
            "Epoch 165/200\n",
            "1/1 [==============================] - 0s 7ms/step - loss: 0.6167 - accuracy: 0.6425\n",
            "Epoch 166/200\n",
            "1/1 [==============================] - 0s 6ms/step - loss: 0.6167 - accuracy: 0.6425\n",
            "Epoch 167/200\n",
            "1/1 [==============================] - 0s 11ms/step - loss: 0.6167 - accuracy: 0.6425\n",
            "Epoch 168/200\n",
            "1/1 [==============================] - 0s 10ms/step - loss: 0.6167 - accuracy: 0.6425\n",
            "Epoch 169/200\n",
            "1/1 [==============================] - 0s 4ms/step - loss: 0.6167 - accuracy: 0.6425\n",
            "Epoch 170/200\n",
            "1/1 [==============================] - 0s 5ms/step - loss: 0.6167 - accuracy: 0.6425\n",
            "Epoch 171/200\n",
            "1/1 [==============================] - 0s 9ms/step - loss: 0.6167 - accuracy: 0.6425\n",
            "Epoch 172/200\n",
            "1/1 [==============================] - 0s 5ms/step - loss: 0.6167 - accuracy: 0.6425\n",
            "Epoch 173/200\n",
            "1/1 [==============================] - 0s 5ms/step - loss: 0.6167 - accuracy: 0.6425\n",
            "Epoch 174/200\n",
            "1/1 [==============================] - 0s 8ms/step - loss: 0.6167 - accuracy: 0.6425\n",
            "Epoch 175/200\n",
            "1/1 [==============================] - 0s 7ms/step - loss: 0.6167 - accuracy: 0.6425\n",
            "Epoch 176/200\n",
            "1/1 [==============================] - 0s 7ms/step - loss: 0.6167 - accuracy: 0.6425\n",
            "Epoch 177/200\n",
            "1/1 [==============================] - 0s 7ms/step - loss: 0.6167 - accuracy: 0.6425\n",
            "Epoch 178/200\n",
            "1/1 [==============================] - 0s 6ms/step - loss: 0.6167 - accuracy: 0.6425\n",
            "Epoch 179/200\n",
            "1/1 [==============================] - 0s 7ms/step - loss: 0.6167 - accuracy: 0.6425\n",
            "Epoch 180/200\n",
            "1/1 [==============================] - 0s 7ms/step - loss: 0.6167 - accuracy: 0.6425\n",
            "Epoch 181/200\n",
            "1/1 [==============================] - 0s 7ms/step - loss: 0.6167 - accuracy: 0.6425\n",
            "Epoch 182/200\n",
            "1/1 [==============================] - 0s 7ms/step - loss: 0.6167 - accuracy: 0.6425\n",
            "Epoch 183/200\n",
            "1/1 [==============================] - 0s 6ms/step - loss: 0.6167 - accuracy: 0.6425\n",
            "Epoch 184/200\n",
            "1/1 [==============================] - 0s 7ms/step - loss: 0.6167 - accuracy: 0.6425\n",
            "Epoch 185/200\n",
            "1/1 [==============================] - 0s 7ms/step - loss: 0.6167 - accuracy: 0.6425\n",
            "Epoch 186/200\n",
            "1/1 [==============================] - 0s 6ms/step - loss: 0.6167 - accuracy: 0.6425\n",
            "Epoch 187/200\n",
            "1/1 [==============================] - 0s 7ms/step - loss: 0.6167 - accuracy: 0.6425\n",
            "Epoch 188/200\n",
            "1/1 [==============================] - 0s 7ms/step - loss: 0.6167 - accuracy: 0.6425\n",
            "Epoch 189/200\n",
            "1/1 [==============================] - 0s 7ms/step - loss: 0.6167 - accuracy: 0.6425\n",
            "Epoch 190/200\n",
            "1/1 [==============================] - 0s 7ms/step - loss: 0.6167 - accuracy: 0.6425\n",
            "Epoch 191/200\n",
            "1/1 [==============================] - 0s 12ms/step - loss: 0.6167 - accuracy: 0.6425\n",
            "Epoch 192/200\n",
            "1/1 [==============================] - 0s 7ms/step - loss: 0.6167 - accuracy: 0.6425\n",
            "Epoch 193/200\n",
            "1/1 [==============================] - 0s 8ms/step - loss: 0.6167 - accuracy: 0.6425\n",
            "Epoch 194/200\n",
            "1/1 [==============================] - 0s 19ms/step - loss: 0.6167 - accuracy: 0.6425\n",
            "Epoch 195/200\n",
            "1/1 [==============================] - 0s 19ms/step - loss: 0.6167 - accuracy: 0.6425\n",
            "Epoch 196/200\n",
            "1/1 [==============================] - 0s 21ms/step - loss: 0.6167 - accuracy: 0.6425\n",
            "Epoch 197/200\n",
            "1/1 [==============================] - 0s 15ms/step - loss: 0.6167 - accuracy: 0.6425\n",
            "Epoch 198/200\n",
            "1/1 [==============================] - 0s 6ms/step - loss: 0.6167 - accuracy: 0.6425\n",
            "Epoch 199/200\n",
            "1/1 [==============================] - 0s 10ms/step - loss: 0.6167 - accuracy: 0.6425\n",
            "Epoch 200/200\n",
            "1/1 [==============================] - 0s 6ms/step - loss: 0.6167 - accuracy: 0.6425\n"
          ],
          "name": "stdout"
        }
      ]
    },
    {
      "cell_type": "code",
      "metadata": {
        "colab": {
          "base_uri": "https://localhost:8080/",
          "height": 0
        },
        "id": "2TegP66f9coc",
        "outputId": "9c3d3bd9-b6c3-4ee3-fec4-281d6cf054cb"
      },
      "source": [
        "loss, acc = model2.evaluate(X_test, y_test, verbose=0)\r\n",
        "print('Accuracy: %.3f' % acc)\r\n",
        "print('Loss: %.3f' % loss)"
      ],
      "execution_count": 76,
      "outputs": [
        {
          "output_type": "stream",
          "text": [
            "Accuracy: 0.629\n",
            "Loss: 0.638\n"
          ],
          "name": "stdout"
        }
      ]
    },
    {
      "cell_type": "code",
      "metadata": {
        "colab": {
          "base_uri": "https://localhost:8080/",
          "height": 279
        },
        "id": "A2q1gJl89nhh",
        "outputId": "a7e8d49f-ab54-4a9a-99e2-065a6eb4393b"
      },
      "source": [
        "#plot \r\n",
        "figure= plt.figure(figsize=(10,4))\r\n",
        "ax = plt.subplot(121)\r\n",
        "ax.plot(history.history['loss'], 'r')\r\n",
        "\r\n",
        "plt.grid(axis='y')\r\n",
        "plt.xlabel(\"epoch\")\r\n",
        "plt.ylabel(\"Loss\")\r\n",
        "\r\n",
        "ax2 = plt.subplot(122)\r\n",
        "ax2.plot(history.history['accuracy'], 'b')\r\n",
        "plt.xlabel(\"epoch\")\r\n",
        "plt.ylabel(\"accuracy\")\r\n",
        "plt.grid(axis='y')\r\n",
        "#plt.savefig(\"mnist_training\")"
      ],
      "execution_count": 77,
      "outputs": [
        {
          "output_type": "display_data",
          "data": {
            "image/png": "[encoded data removed]",
            "text/plain": [
              "<Figure size 720x288 with 2 Axes>"
            ]
          },
          "metadata": {
            "tags": [],
            "needs_background": "light"
          }
        }
      ]
    },
    {
      "cell_type": "code",
      "metadata": {
        "colab": {
          "base_uri": "https://localhost:8080/",
          "height": 0
        },
        "id": "LsE-BKFv-hAh",
        "outputId": "2c933938-ae27-4f09-b903-a70a01494a34"
      },
      "source": [
        "# without softmax\r\n",
        "predictions = model(X_train[:1]).numpy()\r\n",
        "predictions"
      ],
      "execution_count": 78,
      "outputs": [
        {
          "output_type": "execute_result",
          "data": {
            "text/plain": [
              "array([[7.6613170e-01, 2.3385671e-01, 1.3547274e-06, 1.5926901e-06,\n",
              "        1.9058532e-06, 9.0106272e-07, 9.8346504e-07, 1.4474637e-06,\n",
              "        1.2681901e-06, 2.1918922e-06]], dtype=float32)"
            ]
          },
          "metadata": {
            "tags": []
          },
          "execution_count": 78
        }
      ]
    },
    {
      "cell_type": "code",
      "metadata": {
        "colab": {
          "base_uri": "https://localhost:8080/",
          "height": 0
        },
        "id": "eUKaxdmZ-ndT",
        "outputId": "b70a01a3-7098-4c53-b6e4-e2006f5f18f2"
      },
      "source": [
        "predictions.sum()"
      ],
      "execution_count": 79,
      "outputs": [
        {
          "output_type": "execute_result",
          "data": {
            "text/plain": [
              "1.0"
            ]
          },
          "metadata": {
            "tags": []
          },
          "execution_count": 79
        }
      ]
    },
    {
      "cell_type": "code",
      "metadata": {
        "colab": {
          "base_uri": "https://localhost:8080/",
          "height": 0
        },
        "id": "TxB14-aA-pZn",
        "outputId": "7535f098-30f8-4e6d-c1a8-245193343958"
      },
      "source": [
        "# with softmax\r\n",
        "predictions_with_softmax = tf.nn.softmax(model(X_train[:1])).numpy()\r\n",
        "predictions_with_softmax"
      ],
      "execution_count": 80,
      "outputs": [
        {
          "output_type": "execute_result",
          "data": {
            "text/plain": [
              "array([[0.18847534, 0.11068544, 0.0876049 , 0.08760492, 0.08760494,\n",
              "        0.08760485, 0.08760486, 0.0876049 , 0.0876049 , 0.08760497]],\n",
              "      dtype=float32)"
            ]
          },
          "metadata": {
            "tags": []
          },
          "execution_count": 80
        }
      ]
    },
    {
      "cell_type": "code",
      "metadata": {
        "colab": {
          "base_uri": "https://localhost:8080/",
          "height": 0
        },
        "id": "m6SJ2hDf-62J",
        "outputId": "ff4b67ca-a9cb-46b5-fe31-700337a7e2dd"
      },
      "source": [
        "predictions_with_softmax.sum()"
      ],
      "execution_count": 81,
      "outputs": [
        {
          "output_type": "execute_result",
          "data": {
            "text/plain": [
              "1.0"
            ]
          },
          "metadata": {
            "tags": []
          },
          "execution_count": 81
        }
      ]
    },
    {
      "cell_type": "markdown",
      "metadata": {
        "id": "pHMXEpQK0YDL"
      },
      "source": [
        "**OUTPUT:**\r\n",
        "\r\n",
        "Performing DNN technique on Diabetes dataset and calculating its accuracy.Previously accuracy is only around 62% with data loss =0.661 and epoch =100 but after changing epochs of dataset we got **accuracy** of **64.25** with loss = 0.638. The line (\"x_train, y_train, epochs=200, batch_size=20000, verbose=1\") shows that the data is trained with 200 epochs having verbose =1. Score of the model differ everytime as we train it. Because it is fed with different point of data using cross_validataion function. So the t of the line changes as the accuracy with epoch of 200 and activation function is relu with 100 neurons in the FIRST hidden layer specied in create model cell and hence the difference between the graphs can be seen easily."
      ]
    },
    {
      "cell_type": "markdown",
      "metadata": {
        "id": "-6ISpxIbCsMs"
      },
      "source": [
        "**Tensorflow Playround Observation  OUTPUT:**\r\n",
        "--------------------------------------------------------------------------------------------\r\n",
        "-------------------------------\r\n",
        "**For Circle:**\r\n",
        "I/p L  : x1-x2   **|**   Hidden L -- Neurons: 2 Hidden L -- 5N(3--2)   **|**     Epochs:304    **|**    Act FUNC: Tanh   **|**   Learning rate :0.03   ** |**    \r\n",
        "Training loss:0 .007  **|**   Test loss: 0.004   ** |**   Batch size: 10     \r\n",
        "**|**       Tr-Test %:  50%\r\n",
        "\r\n",
        "\r\n",
        "\r\n",
        "\r\n",
        "\r\n",
        "**For Spiral Dataset:**\r\n",
        "I/p L  : x1-x2   **|**Hidden L -- Neurons:  Hidden L -- 12(2--5--3--2)N   **|** Epochs:230   **|**    Act FUNC: Tanh   **|**   Learning rate :0.03   ** |**    \r\n",
        "Training loss:0 .475   **|**   Test loss: 0.474   ** |**   Batch size: 10        \r\n",
        "**|**       Tr-Test %  50%\r\n",
        "\r\n",
        "\r\n",
        "\r\n",
        "\r\n",
        "\r\n",
        "\r\n",
        "**For Gaussian Dataset:**\r\n",
        "I/p L  : x1-x2     **|**     Hidden L -- Neurons: 3Hidden L --7(3--2--2      ) **|**      Epochs:536      **|**       Act FUNC: Tanh            **|**   Learning rate :0.0 1          ** |**    \r\n",
        "  Training loss:0 .005          **|**          Test loss: 0.006** |**       Batch size: 10      \r\n",
        "**|**       Tr-Test %  50%\r\n",
        "\r\n",
        "\r\n",
        "\r\n",
        "\r\n",
        "\r\n",
        "**For Exclusive or:**\r\n",
        "I/p L  : x1-x2     **|**     Hidden L -- Neurons: 2 Hidden L -- 7N--(3-2--2    )**|**       Epochs:182      **|**    Act FUNC: Tanh              **|**   Learning rate :0.03          ** |**    \r\n",
        "Training loss:0 .001       **|**   Test loss: 0.001                ** |**   Batch size: 10 \r\n",
        "      **|**       Tr-Test %  :60%"
      ]
    }
  ]
}
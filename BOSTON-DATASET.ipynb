{
  "nbformat": 4,
  "nbformat_minor": 0,
  "metadata": {
    "colab": {
      "name": "20MAI1013-DL_Lab1_Introduction.ipynb",
      "provenance": [],
      "collapsed_sections": []
    },
    "kernelspec": {
      "display_name": "Python 3",
      "language": "python",
      "name": "python3"
    },
    "language_info": {
      "codemirror_mode": {
        "name": "ipython",
        "version": 3
      },
      "file_extension": ".py",
      "mimetype": "text/x-python",
      "name": "python",
      "nbconvert_exporter": "python",
      "pygments_lexer": "ipython3",
      "version": "3.6.12"
    }
  },
  "cells": [
    {
      "cell_type": "code",
      "metadata": {
        "colab": {
          "base_uri": "https://localhost:8080/",
          "height": 0
        },
        "id": "RfiHm4gS4KSq",
        "outputId": "924cf307-e026-4252-e1bb-33e8d50ae6f7"
      },
      "source": [
        "!pwd"
      ],
      "execution_count": 1,
      "outputs": [
        {
          "output_type": "stream",
          "text": [
            "/content\n"
          ],
          "name": "stdout"
        }
      ]
    },
    {
      "cell_type": "code",
      "metadata": {
        "id": "68eWeRif4bt8"
      },
      "source": [
        "from google.colab import drive\n",
        "drive.mount('/content/drive')"
      ],
      "execution_count": null,
      "outputs": []
    },
    {
      "cell_type": "code",
      "metadata": {
        "colab": {
          "base_uri": "https://localhost:8080/",
          "height": 0
        },
        "id": "qTa2vQaW4dZu",
        "outputId": "d3657530-e267-4644-c4b5-ae0890f7e579"
      },
      "source": [
        "!ls"
      ],
      "execution_count": 4,
      "outputs": [
        {
          "output_type": "stream",
          "text": [
            "sample_data\n"
          ],
          "name": "stdout"
        }
      ]
    },
    {
      "cell_type": "markdown",
      "metadata": {
        "id": "8Gwllhs56z4b"
      },
      "source": [
        "Linear regression done on the Boston housing dataset"
      ]
    },
    {
      "cell_type": "code",
      "metadata": {
        "colab": {
          "base_uri": "https://localhost:8080/",
          "height": 0
        },
        "id": "W4nJDpFK4lVb",
        "outputId": "86a13532-4dd6-4ee2-a52d-5082716f4281"
      },
      "source": [
        "from keras.datasets import boston_housing\n",
        "\n",
        "(x_train, y_train), (x_test, y_test) = boston_housing.load_data()"
      ],
      "execution_count": 5,
      "outputs": [
        {
          "output_type": "stream",
          "text": [
            "Downloading data from https://storage.googleapis.com/tensorflow/tf-keras-datasets/boston_housing.npz\n",
            "57344/57026 [==============================] - 0s 0us/step\n"
          ],
          "name": "stdout"
        }
      ]
    },
    {
      "cell_type": "code",
      "metadata": {
        "colab": {
          "base_uri": "https://localhost:8080/",
          "height": 0
        },
        "id": "6f6EVjnq5U3V",
        "outputId": "01c2330c-465b-49d5-b1e2-0c8322b083f0"
      },
      "source": [
        "print(f'Training data : {x_train.shape}')\n",
        "print(f'Test data : {x_test.shape}')\n",
        "print(f'Training sample : {x_train[0]}')\n",
        "print(f'Training target sample : {x_train[0]}')"
      ],
      "execution_count": 6,
      "outputs": [
        {
          "output_type": "stream",
          "text": [
            "Training data : (404, 13)\n",
            "Test data : (102, 13)\n",
            "Training sample : [  1.23247   0.        8.14      0.        0.538     6.142    91.7\n",
            "   3.9769    4.      307.       21.      396.9      18.72   ]\n",
            "Training target sample : [  1.23247   0.        8.14      0.        0.538     6.142    91.7\n",
            "   3.9769    4.      307.       21.      396.9      18.72   ]\n"
          ],
          "name": "stdout"
        }
      ]
    },
    {
      "cell_type": "code",
      "metadata": {
        "collapsed": true,
        "id": "syCMvZz05hgL"
      },
      "source": [
        "mean = x_train.mean(axis=0)\n",
        "x_train -= mean\n",
        "std = x_train.std(axis=0)\n",
        "x_train /= std\n",
        "\n",
        "x_test -= mean\n",
        "x_test /= std"
      ],
      "execution_count": 7,
      "outputs": []
    },
    {
      "cell_type": "code",
      "metadata": {
        "collapsed": true,
        "id": "PZxPe3J74oYu"
      },
      "source": [
        "from keras.models import Sequential\n",
        "from keras.layers import Dense\n",
        "from keras.wrappers.scikit_learn import KerasRegressor\n",
        "from sklearn.model_selection import cross_val_score\n",
        "from sklearn.model_selection import KFold"
      ],
      "execution_count": 8,
      "outputs": []
    },
    {
      "cell_type": "code",
      "metadata": {
        "id": "XdwcY43_4uSQ"
      },
      "source": [
        "# create model\n",
        "model = Sequential()\n",
        "model.add(Dense(10, input_dim=13, kernel_initializer='normal', activation='relu'))\n",
        "model.add(Dense(1, kernel_initializer='normal'))\n",
        "# Compile model\n",
        "model.compile(loss='mean_squared_error', optimizer='adam')"
      ],
      "execution_count": 23,
      "outputs": []
    },
    {
      "cell_type": "code",
      "metadata": {
        "colab": {
          "base_uri": "https://localhost:8080/",
          "height": 0
        },
        "id": "LcaUQemx6XWT",
        "outputId": "cc9b7f47-7d47-42a6-873f-e36839ab9f45"
      },
      "source": [
        "model.fit(x_train,y_train,epochs= 180)"
      ],
      "execution_count": 24,
      "outputs": [
        {
          "output_type": "stream",
          "text": [
            "Epoch 1/180\n",
            "13/13 [==============================] - 0s 1ms/step - loss: 597.5584\n",
            "Epoch 2/180\n",
            "13/13 [==============================] - 0s 1ms/step - loss: 604.5415\n",
            "Epoch 3/180\n",
            "13/13 [==============================] - 0s 1ms/step - loss: 601.3013\n",
            "Epoch 4/180\n",
            "13/13 [==============================] - 0s 1ms/step - loss: 569.3563\n",
            "Epoch 5/180\n",
            "13/13 [==============================] - 0s 1ms/step - loss: 584.8391\n",
            "Epoch 6/180\n",
            "13/13 [==============================] - 0s 1ms/step - loss: 577.6221\n",
            "Epoch 7/180\n",
            "13/13 [==============================] - 0s 1ms/step - loss: 561.3925\n",
            "Epoch 8/180\n",
            "13/13 [==============================] - 0s 1ms/step - loss: 591.2436\n",
            "Epoch 9/180\n",
            "13/13 [==============================] - 0s 1ms/step - loss: 539.4092\n",
            "Epoch 10/180\n",
            "13/13 [==============================] - 0s 1ms/step - loss: 541.3753\n",
            "Epoch 11/180\n",
            "13/13 [==============================] - 0s 1ms/step - loss: 538.8785\n",
            "Epoch 12/180\n",
            "13/13 [==============================] - 0s 1ms/step - loss: 503.4856\n",
            "Epoch 13/180\n",
            "13/13 [==============================] - 0s 1ms/step - loss: 546.4126\n",
            "Epoch 14/180\n",
            "13/13 [==============================] - 0s 1ms/step - loss: 508.9716\n",
            "Epoch 15/180\n",
            "13/13 [==============================] - 0s 1ms/step - loss: 516.8376\n",
            "Epoch 16/180\n",
            "13/13 [==============================] - 0s 1ms/step - loss: 493.8220\n",
            "Epoch 17/180\n",
            "13/13 [==============================] - 0s 1ms/step - loss: 502.5106\n",
            "Epoch 18/180\n",
            "13/13 [==============================] - 0s 1ms/step - loss: 482.4001\n",
            "Epoch 19/180\n",
            "13/13 [==============================] - 0s 1ms/step - loss: 438.4884\n",
            "Epoch 20/180\n",
            "13/13 [==============================] - 0s 1ms/step - loss: 393.5812\n",
            "Epoch 21/180\n",
            "13/13 [==============================] - 0s 1ms/step - loss: 424.4692\n",
            "Epoch 22/180\n",
            "13/13 [==============================] - 0s 1ms/step - loss: 412.0954\n",
            "Epoch 23/180\n",
            "13/13 [==============================] - 0s 1ms/step - loss: 378.6550\n",
            "Epoch 24/180\n",
            "13/13 [==============================] - 0s 1ms/step - loss: 350.3158\n",
            "Epoch 25/180\n",
            "13/13 [==============================] - 0s 1ms/step - loss: 370.2209\n",
            "Epoch 26/180\n",
            "13/13 [==============================] - 0s 1ms/step - loss: 329.9228\n",
            "Epoch 27/180\n",
            "13/13 [==============================] - 0s 1ms/step - loss: 310.2143\n",
            "Epoch 28/180\n",
            "13/13 [==============================] - 0s 1ms/step - loss: 307.2562\n",
            "Epoch 29/180\n",
            "13/13 [==============================] - 0s 2ms/step - loss: 289.0615\n",
            "Epoch 30/180\n",
            "13/13 [==============================] - 0s 1ms/step - loss: 257.7786\n",
            "Epoch 31/180\n",
            "13/13 [==============================] - 0s 1ms/step - loss: 236.6431\n",
            "Epoch 32/180\n",
            "13/13 [==============================] - 0s 1ms/step - loss: 255.1401\n",
            "Epoch 33/180\n",
            "13/13 [==============================] - 0s 1ms/step - loss: 227.9868\n",
            "Epoch 34/180\n",
            "13/13 [==============================] - 0s 1ms/step - loss: 222.5908\n",
            "Epoch 35/180\n",
            "13/13 [==============================] - 0s 1ms/step - loss: 213.3775\n",
            "Epoch 36/180\n",
            "13/13 [==============================] - 0s 1ms/step - loss: 193.9043\n",
            "Epoch 37/180\n",
            "13/13 [==============================] - 0s 2ms/step - loss: 171.7999\n",
            "Epoch 38/180\n",
            "13/13 [==============================] - 0s 2ms/step - loss: 191.5613\n",
            "Epoch 39/180\n",
            "13/13 [==============================] - 0s 1ms/step - loss: 166.8737\n",
            "Epoch 40/180\n",
            "13/13 [==============================] - 0s 1ms/step - loss: 157.4171\n",
            "Epoch 41/180\n",
            "13/13 [==============================] - 0s 2ms/step - loss: 148.1978\n",
            "Epoch 42/180\n",
            "13/13 [==============================] - 0s 1ms/step - loss: 138.5106\n",
            "Epoch 43/180\n",
            "13/13 [==============================] - 0s 2ms/step - loss: 127.4456\n",
            "Epoch 44/180\n",
            "13/13 [==============================] - 0s 1ms/step - loss: 127.5239\n",
            "Epoch 45/180\n",
            "13/13 [==============================] - 0s 2ms/step - loss: 110.9757\n",
            "Epoch 46/180\n",
            "13/13 [==============================] - 0s 1ms/step - loss: 115.6300\n",
            "Epoch 47/180\n",
            "13/13 [==============================] - 0s 1ms/step - loss: 102.4938\n",
            "Epoch 48/180\n",
            "13/13 [==============================] - 0s 2ms/step - loss: 92.5592\n",
            "Epoch 49/180\n",
            "13/13 [==============================] - 0s 1ms/step - loss: 86.0216\n",
            "Epoch 50/180\n",
            "13/13 [==============================] - 0s 1ms/step - loss: 84.7227\n",
            "Epoch 51/180\n",
            "13/13 [==============================] - 0s 1ms/step - loss: 86.7472\n",
            "Epoch 52/180\n",
            "13/13 [==============================] - 0s 2ms/step - loss: 73.4044\n",
            "Epoch 53/180\n",
            "13/13 [==============================] - 0s 1ms/step - loss: 80.2137\n",
            "Epoch 54/180\n",
            "13/13 [==============================] - 0s 1ms/step - loss: 93.3748\n",
            "Epoch 55/180\n",
            "13/13 [==============================] - 0s 1ms/step - loss: 74.1713\n",
            "Epoch 56/180\n",
            "13/13 [==============================] - 0s 1ms/step - loss: 71.2014\n",
            "Epoch 57/180\n",
            "13/13 [==============================] - 0s 1ms/step - loss: 70.0466\n",
            "Epoch 58/180\n",
            "13/13 [==============================] - 0s 1ms/step - loss: 61.0157\n",
            "Epoch 59/180\n",
            "13/13 [==============================] - 0s 1ms/step - loss: 57.4660\n",
            "Epoch 60/180\n",
            "13/13 [==============================] - 0s 2ms/step - loss: 53.1890\n",
            "Epoch 61/180\n",
            "13/13 [==============================] - 0s 1ms/step - loss: 50.8758\n",
            "Epoch 62/180\n",
            "13/13 [==============================] - 0s 1ms/step - loss: 58.1803\n",
            "Epoch 63/180\n",
            "13/13 [==============================] - 0s 1ms/step - loss: 60.7938\n",
            "Epoch 64/180\n",
            "13/13 [==============================] - 0s 1ms/step - loss: 50.5274\n",
            "Epoch 65/180\n",
            "13/13 [==============================] - 0s 1ms/step - loss: 53.5034\n",
            "Epoch 66/180\n",
            "13/13 [==============================] - 0s 1ms/step - loss: 50.1230\n",
            "Epoch 67/180\n",
            "13/13 [==============================] - 0s 2ms/step - loss: 47.0127\n",
            "Epoch 68/180\n",
            "13/13 [==============================] - 0s 1ms/step - loss: 47.2493\n",
            "Epoch 69/180\n",
            "13/13 [==============================] - 0s 1ms/step - loss: 45.0263\n",
            "Epoch 70/180\n",
            "13/13 [==============================] - 0s 1ms/step - loss: 45.2657\n",
            "Epoch 71/180\n",
            "13/13 [==============================] - 0s 1ms/step - loss: 40.5698\n",
            "Epoch 72/180\n",
            "13/13 [==============================] - 0s 1ms/step - loss: 37.3096\n",
            "Epoch 73/180\n",
            "13/13 [==============================] - 0s 1ms/step - loss: 49.4111\n",
            "Epoch 74/180\n",
            "13/13 [==============================] - 0s 1ms/step - loss: 31.9914\n",
            "Epoch 75/180\n",
            "13/13 [==============================] - 0s 1ms/step - loss: 38.4525\n",
            "Epoch 76/180\n",
            "13/13 [==============================] - 0s 2ms/step - loss: 38.7743\n",
            "Epoch 77/180\n",
            "13/13 [==============================] - 0s 1ms/step - loss: 32.0143\n",
            "Epoch 78/180\n",
            "13/13 [==============================] - 0s 1ms/step - loss: 30.7519\n",
            "Epoch 79/180\n",
            "13/13 [==============================] - 0s 2ms/step - loss: 38.4862\n",
            "Epoch 80/180\n",
            "13/13 [==============================] - 0s 1ms/step - loss: 33.7714\n",
            "Epoch 81/180\n",
            "13/13 [==============================] - 0s 1ms/step - loss: 33.9781\n",
            "Epoch 82/180\n",
            "13/13 [==============================] - 0s 1ms/step - loss: 30.0135\n",
            "Epoch 83/180\n",
            "13/13 [==============================] - 0s 1ms/step - loss: 31.5677\n",
            "Epoch 84/180\n",
            "13/13 [==============================] - 0s 2ms/step - loss: 30.6783\n",
            "Epoch 85/180\n",
            "13/13 [==============================] - 0s 1ms/step - loss: 29.7909\n",
            "Epoch 86/180\n",
            "13/13 [==============================] - 0s 1ms/step - loss: 25.7266\n",
            "Epoch 87/180\n",
            "13/13 [==============================] - 0s 1ms/step - loss: 27.9742\n",
            "Epoch 88/180\n",
            "13/13 [==============================] - 0s 1ms/step - loss: 29.9695\n",
            "Epoch 89/180\n",
            "13/13 [==============================] - 0s 1ms/step - loss: 25.4896\n",
            "Epoch 90/180\n",
            "13/13 [==============================] - 0s 2ms/step - loss: 26.1158\n",
            "Epoch 91/180\n",
            "13/13 [==============================] - 0s 2ms/step - loss: 26.3227\n",
            "Epoch 92/180\n",
            "13/13 [==============================] - 0s 1ms/step - loss: 25.1869\n",
            "Epoch 93/180\n",
            "13/13 [==============================] - 0s 2ms/step - loss: 23.8120\n",
            "Epoch 94/180\n",
            "13/13 [==============================] - 0s 1ms/step - loss: 28.3166\n",
            "Epoch 95/180\n",
            "13/13 [==============================] - 0s 2ms/step - loss: 27.4800\n",
            "Epoch 96/180\n",
            "13/13 [==============================] - 0s 2ms/step - loss: 32.0238\n",
            "Epoch 97/180\n",
            "13/13 [==============================] - 0s 1ms/step - loss: 29.1382\n",
            "Epoch 98/180\n",
            "13/13 [==============================] - 0s 1ms/step - loss: 27.2428\n",
            "Epoch 99/180\n",
            "13/13 [==============================] - 0s 1ms/step - loss: 22.8852\n",
            "Epoch 100/180\n",
            "13/13 [==============================] - 0s 1ms/step - loss: 27.8401\n",
            "Epoch 101/180\n",
            "13/13 [==============================] - 0s 1ms/step - loss: 27.2251\n",
            "Epoch 102/180\n",
            "13/13 [==============================] - 0s 1ms/step - loss: 23.2436\n",
            "Epoch 103/180\n",
            "13/13 [==============================] - 0s 2ms/step - loss: 24.5527\n",
            "Epoch 104/180\n",
            "13/13 [==============================] - 0s 2ms/step - loss: 25.3852\n",
            "Epoch 105/180\n",
            "13/13 [==============================] - 0s 1ms/step - loss: 24.4969\n",
            "Epoch 106/180\n",
            "13/13 [==============================] - 0s 2ms/step - loss: 28.8179\n",
            "Epoch 107/180\n",
            "13/13 [==============================] - 0s 1ms/step - loss: 23.8096\n",
            "Epoch 108/180\n",
            "13/13 [==============================] - 0s 1ms/step - loss: 24.7621\n",
            "Epoch 109/180\n",
            "13/13 [==============================] - 0s 1ms/step - loss: 23.9164\n",
            "Epoch 110/180\n",
            "13/13 [==============================] - 0s 1ms/step - loss: 26.2167\n",
            "Epoch 111/180\n",
            "13/13 [==============================] - 0s 1ms/step - loss: 25.3786\n",
            "Epoch 112/180\n",
            "13/13 [==============================] - 0s 1ms/step - loss: 26.0112\n",
            "Epoch 113/180\n",
            "13/13 [==============================] - 0s 1ms/step - loss: 25.6161\n",
            "Epoch 114/180\n",
            "13/13 [==============================] - 0s 1ms/step - loss: 22.2042\n",
            "Epoch 115/180\n",
            "13/13 [==============================] - 0s 1ms/step - loss: 23.4733\n",
            "Epoch 116/180\n",
            "13/13 [==============================] - 0s 2ms/step - loss: 23.6286\n",
            "Epoch 117/180\n",
            "13/13 [==============================] - 0s 1ms/step - loss: 20.1689\n",
            "Epoch 118/180\n",
            "13/13 [==============================] - 0s 2ms/step - loss: 22.1054\n",
            "Epoch 119/180\n",
            "13/13 [==============================] - 0s 1ms/step - loss: 19.6420\n",
            "Epoch 120/180\n",
            "13/13 [==============================] - 0s 2ms/step - loss: 22.0721\n",
            "Epoch 121/180\n",
            "13/13 [==============================] - 0s 2ms/step - loss: 25.6857\n",
            "Epoch 122/180\n",
            "13/13 [==============================] - 0s 1ms/step - loss: 23.5195\n",
            "Epoch 123/180\n",
            "13/13 [==============================] - 0s 1ms/step - loss: 21.3081\n",
            "Epoch 124/180\n",
            "13/13 [==============================] - 0s 1ms/step - loss: 24.7744\n",
            "Epoch 125/180\n",
            "13/13 [==============================] - 0s 1ms/step - loss: 21.4374\n",
            "Epoch 126/180\n",
            "13/13 [==============================] - 0s 2ms/step - loss: 20.5638\n",
            "Epoch 127/180\n",
            "13/13 [==============================] - 0s 1ms/step - loss: 23.5816\n",
            "Epoch 128/180\n",
            "13/13 [==============================] - 0s 2ms/step - loss: 25.3344\n",
            "Epoch 129/180\n",
            "13/13 [==============================] - 0s 2ms/step - loss: 25.8722\n",
            "Epoch 130/180\n",
            "13/13 [==============================] - 0s 1ms/step - loss: 20.5402\n",
            "Epoch 131/180\n",
            "13/13 [==============================] - 0s 2ms/step - loss: 23.5063\n",
            "Epoch 132/180\n",
            "13/13 [==============================] - 0s 1ms/step - loss: 27.2349\n",
            "Epoch 133/180\n",
            "13/13 [==============================] - 0s 1ms/step - loss: 21.0421\n",
            "Epoch 134/180\n",
            "13/13 [==============================] - 0s 1ms/step - loss: 24.2042\n",
            "Epoch 135/180\n",
            "13/13 [==============================] - 0s 1ms/step - loss: 21.7332\n",
            "Epoch 136/180\n",
            "13/13 [==============================] - 0s 2ms/step - loss: 22.5227\n",
            "Epoch 137/180\n",
            "13/13 [==============================] - 0s 1ms/step - loss: 21.8124\n",
            "Epoch 138/180\n",
            "13/13 [==============================] - 0s 2ms/step - loss: 25.3337\n",
            "Epoch 139/180\n",
            "13/13 [==============================] - 0s 2ms/step - loss: 24.6051\n",
            "Epoch 140/180\n",
            "13/13 [==============================] - 0s 2ms/step - loss: 22.6874\n",
            "Epoch 141/180\n",
            "13/13 [==============================] - 0s 2ms/step - loss: 21.9309\n",
            "Epoch 142/180\n",
            "13/13 [==============================] - 0s 2ms/step - loss: 23.7281\n",
            "Epoch 143/180\n",
            "13/13 [==============================] - 0s 1ms/step - loss: 23.9424\n",
            "Epoch 144/180\n",
            "13/13 [==============================] - 0s 2ms/step - loss: 21.4591\n",
            "Epoch 145/180\n",
            "13/13 [==============================] - 0s 1ms/step - loss: 22.6684\n",
            "Epoch 146/180\n",
            "13/13 [==============================] - 0s 1ms/step - loss: 25.6573\n",
            "Epoch 147/180\n",
            "13/13 [==============================] - 0s 1ms/step - loss: 19.6239\n",
            "Epoch 148/180\n",
            "13/13 [==============================] - 0s 2ms/step - loss: 22.4524\n",
            "Epoch 149/180\n",
            "13/13 [==============================] - 0s 1ms/step - loss: 21.6972\n",
            "Epoch 150/180\n",
            "13/13 [==============================] - 0s 2ms/step - loss: 24.4528\n",
            "Epoch 151/180\n",
            "13/13 [==============================] - 0s 2ms/step - loss: 22.4296\n",
            "Epoch 152/180\n",
            "13/13 [==============================] - 0s 2ms/step - loss: 21.7689\n",
            "Epoch 153/180\n",
            "13/13 [==============================] - 0s 1ms/step - loss: 20.7262\n",
            "Epoch 154/180\n",
            "13/13 [==============================] - 0s 1ms/step - loss: 23.3519\n",
            "Epoch 155/180\n",
            "13/13 [==============================] - 0s 2ms/step - loss: 20.3674\n",
            "Epoch 156/180\n",
            "13/13 [==============================] - 0s 1ms/step - loss: 21.6911\n",
            "Epoch 157/180\n",
            "13/13 [==============================] - 0s 1ms/step - loss: 19.3639\n",
            "Epoch 158/180\n",
            "13/13 [==============================] - 0s 2ms/step - loss: 23.1273\n",
            "Epoch 159/180\n",
            "13/13 [==============================] - 0s 1ms/step - loss: 18.8447\n",
            "Epoch 160/180\n",
            "13/13 [==============================] - 0s 1ms/step - loss: 18.6740\n",
            "Epoch 161/180\n",
            "13/13 [==============================] - 0s 1ms/step - loss: 20.4767\n",
            "Epoch 162/180\n",
            "13/13 [==============================] - 0s 2ms/step - loss: 22.3130\n",
            "Epoch 163/180\n",
            "13/13 [==============================] - 0s 1ms/step - loss: 21.3062\n",
            "Epoch 164/180\n",
            "13/13 [==============================] - 0s 2ms/step - loss: 21.3200\n",
            "Epoch 165/180\n",
            "13/13 [==============================] - 0s 1ms/step - loss: 19.5142\n",
            "Epoch 166/180\n",
            "13/13 [==============================] - 0s 2ms/step - loss: 24.3441\n",
            "Epoch 167/180\n",
            "13/13 [==============================] - 0s 1ms/step - loss: 21.6612\n",
            "Epoch 168/180\n",
            "13/13 [==============================] - 0s 1ms/step - loss: 20.1157\n",
            "Epoch 169/180\n",
            "13/13 [==============================] - 0s 1ms/step - loss: 18.1615\n",
            "Epoch 170/180\n",
            "13/13 [==============================] - 0s 1ms/step - loss: 22.9908\n",
            "Epoch 171/180\n",
            "13/13 [==============================] - 0s 2ms/step - loss: 18.8583\n",
            "Epoch 172/180\n",
            "13/13 [==============================] - 0s 2ms/step - loss: 18.3828\n",
            "Epoch 173/180\n",
            "13/13 [==============================] - 0s 2ms/step - loss: 20.6193\n",
            "Epoch 174/180\n",
            "13/13 [==============================] - 0s 1ms/step - loss: 20.0355\n",
            "Epoch 175/180\n",
            "13/13 [==============================] - 0s 1ms/step - loss: 19.9244\n",
            "Epoch 176/180\n",
            "13/13 [==============================] - 0s 1ms/step - loss: 19.3854\n",
            "Epoch 177/180\n",
            "13/13 [==============================] - 0s 2ms/step - loss: 23.7223\n",
            "Epoch 178/180\n",
            "13/13 [==============================] - 0s 2ms/step - loss: 20.7983\n",
            "Epoch 179/180\n",
            "13/13 [==============================] - 0s 2ms/step - loss: 19.0135\n",
            "Epoch 180/180\n",
            "13/13 [==============================] - 0s 1ms/step - loss: 18.8215\n"
          ],
          "name": "stdout"
        },
        {
          "output_type": "execute_result",
          "data": {
            "text/plain": [
              "<tensorflow.python.keras.callbacks.History at 0x7f352e1e9390>"
            ]
          },
          "metadata": {
            "tags": []
          },
          "execution_count": 24
        }
      ]
    },
    {
      "cell_type": "code",
      "metadata": {
        "colab": {
          "base_uri": "https://localhost:8080/",
          "height": 0
        },
        "id": "62D1km2m6Zov",
        "outputId": "3f1cfe00-fc65-4419-cb14-d4b238394770"
      },
      "source": [
        "model.evaluate(x_test,y_test)"
      ],
      "execution_count": 25,
      "outputs": [
        {
          "output_type": "stream",
          "text": [
            "4/4 [==============================] - 0s 2ms/step - loss: 22.8735\n"
          ],
          "name": "stdout"
        },
        {
          "output_type": "execute_result",
          "data": {
            "text/plain": [
              "22.873546600341797"
            ]
          },
          "metadata": {
            "tags": []
          },
          "execution_count": 25
        }
      ]
    },
    {
      "cell_type": "markdown",
      "metadata": {
        "id": "C4WACzX-Q4P1"
      },
      "source": [
        "Got accuracy of 22.87 on Boston dataset\r\n",
        "Score of the model differ everytime as we train it. Because it is fed with different point of data using cross_validataion function. Like in the first runtime it's fed with 1-10 indexs in the 100 dataset next time it's fed with 10-20, 20-30....80-90...etc,. So the fit of the line changes as the accuracy with epoch of 180 and activation function is relu and 13 input parameters, with 10 neurons in the FIRST hidden layer specified in create model cell#(model.add(Dense(10, input_dim=13, kernel_initializer='normal', activation='relu'))#)"
      ]
    }
  ]
}